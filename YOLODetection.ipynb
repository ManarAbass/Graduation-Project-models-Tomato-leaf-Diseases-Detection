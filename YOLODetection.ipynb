{
  "nbformat": 4,
  "nbformat_minor": 0,
  "metadata": {
    "colab": {
      "provenance": []
    },
    "kernelspec": {
      "name": "python3",
      "display_name": "Python 3"
    },
    "language_info": {
      "name": "python"
    }
  },
  "cells": [
    {
      "cell_type": "markdown",
      "source": [
        "## YOLO Detection\n"
      ],
      "metadata": {
        "id": "WfKax3Xgd6ri"
      }
    },
    {
      "cell_type": "code",
      "execution_count": null,
      "metadata": {
        "colab": {
          "base_uri": "https://localhost:8080/"
        },
        "id": "IsAb8y6zse30",
        "outputId": "b40a2309-9197-4458-83ff-f31e9412b4cf"
      },
      "outputs": [
        {
          "output_type": "stream",
          "name": "stdout",
          "text": [
            "Requirement already satisfied: shapely in /usr/local/lib/python3.10/dist-packages (2.0.4)\n",
            "Requirement already satisfied: numpy<3,>=1.14 in /usr/local/lib/python3.10/dist-packages (from shapely) (1.25.2)\n"
          ]
        }
      ],
      "source": [
        "pip install --upgrade shapely"
      ]
    },
    {
      "cell_type": "code",
      "source": [
        "pip install ultralyticsplus==0.0.28 ultralytics==8.0.43\n"
      ],
      "metadata": {
        "id": "MGQZkfOXslA9",
        "colab": {
          "base_uri": "https://localhost:8080/"
        },
        "outputId": "101eb323-154a-4077-e60c-8fdc5accaed0"
      },
      "execution_count": null,
      "outputs": [
        {
          "output_type": "stream",
          "name": "stdout",
          "text": [
            "Requirement already satisfied: ultralyticsplus==0.0.28 in /usr/local/lib/python3.10/dist-packages (0.0.28)\n",
            "Requirement already satisfied: ultralytics==8.0.43 in /usr/local/lib/python3.10/dist-packages (8.0.43)\n",
            "Requirement already satisfied: huggingface-hub>=0.12.0 in /usr/local/lib/python3.10/dist-packages (from ultralyticsplus==0.0.28) (0.23.4)\n",
            "Requirement already satisfied: fire in /usr/local/lib/python3.10/dist-packages (from ultralyticsplus==0.0.28) (0.6.0)\n",
            "Requirement already satisfied: sahi<0.12.0,>=0.11.11 in /usr/local/lib/python3.10/dist-packages (from ultralyticsplus==0.0.28) (0.11.16)\n",
            "Requirement already satisfied: pandas in /usr/local/lib/python3.10/dist-packages (from ultralyticsplus==0.0.28) (2.0.3)\n",
            "Requirement already satisfied: matplotlib>=3.2.2 in /usr/local/lib/python3.10/dist-packages (from ultralytics==8.0.43) (3.7.1)\n",
            "Requirement already satisfied: numpy>=1.18.5 in /usr/local/lib/python3.10/dist-packages (from ultralytics==8.0.43) (1.25.2)\n",
            "Requirement already satisfied: opencv-python>=4.6.0 in /usr/local/lib/python3.10/dist-packages (from ultralytics==8.0.43) (4.8.0.76)\n",
            "Requirement already satisfied: Pillow>=7.1.2 in /usr/local/lib/python3.10/dist-packages (from ultralytics==8.0.43) (9.4.0)\n",
            "Requirement already satisfied: PyYAML>=5.3.1 in /usr/local/lib/python3.10/dist-packages (from ultralytics==8.0.43) (6.0.1)\n",
            "Requirement already satisfied: requests>=2.23.0 in /usr/local/lib/python3.10/dist-packages (from ultralytics==8.0.43) (2.31.0)\n",
            "Requirement already satisfied: scipy>=1.4.1 in /usr/local/lib/python3.10/dist-packages (from ultralytics==8.0.43) (1.11.4)\n",
            "Requirement already satisfied: torch>=1.7.0 in /usr/local/lib/python3.10/dist-packages (from ultralytics==8.0.43) (2.3.0+cu121)\n",
            "Requirement already satisfied: torchvision>=0.8.1 in /usr/local/lib/python3.10/dist-packages (from ultralytics==8.0.43) (0.18.0+cu121)\n",
            "Requirement already satisfied: tqdm>=4.64.0 in /usr/local/lib/python3.10/dist-packages (from ultralytics==8.0.43) (4.66.4)\n",
            "Requirement already satisfied: tensorboard>=2.4.1 in /usr/local/lib/python3.10/dist-packages (from ultralytics==8.0.43) (2.15.2)\n",
            "Requirement already satisfied: seaborn>=0.11.0 in /usr/local/lib/python3.10/dist-packages (from ultralytics==8.0.43) (0.13.1)\n",
            "Requirement already satisfied: psutil in /usr/local/lib/python3.10/dist-packages (from ultralytics==8.0.43) (5.9.5)\n",
            "Requirement already satisfied: thop>=0.1.1 in /usr/local/lib/python3.10/dist-packages (from ultralytics==8.0.43) (0.1.1.post2209072238)\n",
            "Requirement already satisfied: wheel>=0.38.0 in /usr/local/lib/python3.10/dist-packages (from ultralytics==8.0.43) (0.43.0)\n",
            "Requirement already satisfied: sentry-sdk in /usr/local/lib/python3.10/dist-packages (from ultralytics==8.0.43) (2.6.0)\n",
            "Requirement already satisfied: filelock in /usr/local/lib/python3.10/dist-packages (from huggingface-hub>=0.12.0->ultralyticsplus==0.0.28) (3.15.1)\n",
            "Requirement already satisfied: fsspec>=2023.5.0 in /usr/local/lib/python3.10/dist-packages (from huggingface-hub>=0.12.0->ultralyticsplus==0.0.28) (2023.6.0)\n",
            "Requirement already satisfied: packaging>=20.9 in /usr/local/lib/python3.10/dist-packages (from huggingface-hub>=0.12.0->ultralyticsplus==0.0.28) (24.1)\n",
            "Requirement already satisfied: typing-extensions>=3.7.4.3 in /usr/local/lib/python3.10/dist-packages (from huggingface-hub>=0.12.0->ultralyticsplus==0.0.28) (4.12.2)\n",
            "Requirement already satisfied: contourpy>=1.0.1 in /usr/local/lib/python3.10/dist-packages (from matplotlib>=3.2.2->ultralytics==8.0.43) (1.2.1)\n",
            "Requirement already satisfied: cycler>=0.10 in /usr/local/lib/python3.10/dist-packages (from matplotlib>=3.2.2->ultralytics==8.0.43) (0.12.1)\n",
            "Requirement already satisfied: fonttools>=4.22.0 in /usr/local/lib/python3.10/dist-packages (from matplotlib>=3.2.2->ultralytics==8.0.43) (4.53.0)\n",
            "Requirement already satisfied: kiwisolver>=1.0.1 in /usr/local/lib/python3.10/dist-packages (from matplotlib>=3.2.2->ultralytics==8.0.43) (1.4.5)\n",
            "Requirement already satisfied: pyparsing>=2.3.1 in /usr/local/lib/python3.10/dist-packages (from matplotlib>=3.2.2->ultralytics==8.0.43) (3.1.2)\n",
            "Requirement already satisfied: python-dateutil>=2.7 in /usr/local/lib/python3.10/dist-packages (from matplotlib>=3.2.2->ultralytics==8.0.43) (2.8.2)\n",
            "Requirement already satisfied: pytz>=2020.1 in /usr/local/lib/python3.10/dist-packages (from pandas->ultralyticsplus==0.0.28) (2023.4)\n",
            "Requirement already satisfied: tzdata>=2022.1 in /usr/local/lib/python3.10/dist-packages (from pandas->ultralyticsplus==0.0.28) (2024.1)\n",
            "Requirement already satisfied: charset-normalizer<4,>=2 in /usr/local/lib/python3.10/dist-packages (from requests>=2.23.0->ultralytics==8.0.43) (3.3.2)\n",
            "Requirement already satisfied: idna<4,>=2.5 in /usr/local/lib/python3.10/dist-packages (from requests>=2.23.0->ultralytics==8.0.43) (3.7)\n",
            "Requirement already satisfied: urllib3<3,>=1.21.1 in /usr/local/lib/python3.10/dist-packages (from requests>=2.23.0->ultralytics==8.0.43) (2.0.7)\n",
            "Requirement already satisfied: certifi>=2017.4.17 in /usr/local/lib/python3.10/dist-packages (from requests>=2.23.0->ultralytics==8.0.43) (2024.6.2)\n",
            "Requirement already satisfied: shapely>=1.8.0 in /usr/local/lib/python3.10/dist-packages (from sahi<0.12.0,>=0.11.11->ultralyticsplus==0.0.28) (2.0.4)\n",
            "Requirement already satisfied: pybboxes==0.1.6 in /usr/local/lib/python3.10/dist-packages (from sahi<0.12.0,>=0.11.11->ultralyticsplus==0.0.28) (0.1.6)\n",
            "Requirement already satisfied: terminaltables in /usr/local/lib/python3.10/dist-packages (from sahi<0.12.0,>=0.11.11->ultralyticsplus==0.0.28) (3.1.10)\n",
            "Requirement already satisfied: click in /usr/local/lib/python3.10/dist-packages (from sahi<0.12.0,>=0.11.11->ultralyticsplus==0.0.28) (8.1.7)\n",
            "Requirement already satisfied: absl-py>=0.4 in /usr/local/lib/python3.10/dist-packages (from tensorboard>=2.4.1->ultralytics==8.0.43) (1.4.0)\n",
            "Requirement already satisfied: grpcio>=1.48.2 in /usr/local/lib/python3.10/dist-packages (from tensorboard>=2.4.1->ultralytics==8.0.43) (1.64.1)\n",
            "Requirement already satisfied: google-auth<3,>=1.6.3 in /usr/local/lib/python3.10/dist-packages (from tensorboard>=2.4.1->ultralytics==8.0.43) (2.27.0)\n",
            "Requirement already satisfied: google-auth-oauthlib<2,>=0.5 in /usr/local/lib/python3.10/dist-packages (from tensorboard>=2.4.1->ultralytics==8.0.43) (1.2.0)\n",
            "Requirement already satisfied: markdown>=2.6.8 in /usr/local/lib/python3.10/dist-packages (from tensorboard>=2.4.1->ultralytics==8.0.43) (3.6)\n",
            "Requirement already satisfied: protobuf!=4.24.0,>=3.19.6 in /usr/local/lib/python3.10/dist-packages (from tensorboard>=2.4.1->ultralytics==8.0.43) (3.20.3)\n",
            "Requirement already satisfied: setuptools>=41.0.0 in /usr/local/lib/python3.10/dist-packages (from tensorboard>=2.4.1->ultralytics==8.0.43) (67.7.2)\n",
            "Requirement already satisfied: six>1.9 in /usr/local/lib/python3.10/dist-packages (from tensorboard>=2.4.1->ultralytics==8.0.43) (1.16.0)\n",
            "Requirement already satisfied: tensorboard-data-server<0.8.0,>=0.7.0 in /usr/local/lib/python3.10/dist-packages (from tensorboard>=2.4.1->ultralytics==8.0.43) (0.7.2)\n",
            "Requirement already satisfied: werkzeug>=1.0.1 in /usr/local/lib/python3.10/dist-packages (from tensorboard>=2.4.1->ultralytics==8.0.43) (3.0.3)\n",
            "Requirement already satisfied: sympy in /usr/local/lib/python3.10/dist-packages (from torch>=1.7.0->ultralytics==8.0.43) (1.12.1)\n",
            "Requirement already satisfied: networkx in /usr/local/lib/python3.10/dist-packages (from torch>=1.7.0->ultralytics==8.0.43) (3.3)\n",
            "Requirement already satisfied: jinja2 in /usr/local/lib/python3.10/dist-packages (from torch>=1.7.0->ultralytics==8.0.43) (3.1.4)\n",
            "Requirement already satisfied: nvidia-cuda-nvrtc-cu12==12.1.105 in /usr/local/lib/python3.10/dist-packages (from torch>=1.7.0->ultralytics==8.0.43) (12.1.105)\n",
            "Requirement already satisfied: nvidia-cuda-runtime-cu12==12.1.105 in /usr/local/lib/python3.10/dist-packages (from torch>=1.7.0->ultralytics==8.0.43) (12.1.105)\n",
            "Requirement already satisfied: nvidia-cuda-cupti-cu12==12.1.105 in /usr/local/lib/python3.10/dist-packages (from torch>=1.7.0->ultralytics==8.0.43) (12.1.105)\n",
            "Requirement already satisfied: nvidia-cudnn-cu12==8.9.2.26 in /usr/local/lib/python3.10/dist-packages (from torch>=1.7.0->ultralytics==8.0.43) (8.9.2.26)\n",
            "Requirement already satisfied: nvidia-cublas-cu12==12.1.3.1 in /usr/local/lib/python3.10/dist-packages (from torch>=1.7.0->ultralytics==8.0.43) (12.1.3.1)\n",
            "Requirement already satisfied: nvidia-cufft-cu12==11.0.2.54 in /usr/local/lib/python3.10/dist-packages (from torch>=1.7.0->ultralytics==8.0.43) (11.0.2.54)\n",
            "Requirement already satisfied: nvidia-curand-cu12==10.3.2.106 in /usr/local/lib/python3.10/dist-packages (from torch>=1.7.0->ultralytics==8.0.43) (10.3.2.106)\n",
            "Requirement already satisfied: nvidia-cusolver-cu12==11.4.5.107 in /usr/local/lib/python3.10/dist-packages (from torch>=1.7.0->ultralytics==8.0.43) (11.4.5.107)\n",
            "Requirement already satisfied: nvidia-cusparse-cu12==12.1.0.106 in /usr/local/lib/python3.10/dist-packages (from torch>=1.7.0->ultralytics==8.0.43) (12.1.0.106)\n",
            "Requirement already satisfied: nvidia-nccl-cu12==2.20.5 in /usr/local/lib/python3.10/dist-packages (from torch>=1.7.0->ultralytics==8.0.43) (2.20.5)\n",
            "Requirement already satisfied: nvidia-nvtx-cu12==12.1.105 in /usr/local/lib/python3.10/dist-packages (from torch>=1.7.0->ultralytics==8.0.43) (12.1.105)\n",
            "Requirement already satisfied: triton==2.3.0 in /usr/local/lib/python3.10/dist-packages (from torch>=1.7.0->ultralytics==8.0.43) (2.3.0)\n",
            "Requirement already satisfied: nvidia-nvjitlink-cu12 in /usr/local/lib/python3.10/dist-packages (from nvidia-cusolver-cu12==11.4.5.107->torch>=1.7.0->ultralytics==8.0.43) (12.5.40)\n",
            "Requirement already satisfied: termcolor in /usr/local/lib/python3.10/dist-packages (from fire->ultralyticsplus==0.0.28) (2.4.0)\n",
            "Requirement already satisfied: cachetools<6.0,>=2.0.0 in /usr/local/lib/python3.10/dist-packages (from google-auth<3,>=1.6.3->tensorboard>=2.4.1->ultralytics==8.0.43) (5.3.3)\n",
            "Requirement already satisfied: pyasn1-modules>=0.2.1 in /usr/local/lib/python3.10/dist-packages (from google-auth<3,>=1.6.3->tensorboard>=2.4.1->ultralytics==8.0.43) (0.4.0)\n",
            "Requirement already satisfied: rsa<5,>=3.1.4 in /usr/local/lib/python3.10/dist-packages (from google-auth<3,>=1.6.3->tensorboard>=2.4.1->ultralytics==8.0.43) (4.9)\n",
            "Requirement already satisfied: requests-oauthlib>=0.7.0 in /usr/local/lib/python3.10/dist-packages (from google-auth-oauthlib<2,>=0.5->tensorboard>=2.4.1->ultralytics==8.0.43) (1.3.1)\n",
            "Requirement already satisfied: MarkupSafe>=2.1.1 in /usr/local/lib/python3.10/dist-packages (from werkzeug>=1.0.1->tensorboard>=2.4.1->ultralytics==8.0.43) (2.1.5)\n",
            "Requirement already satisfied: mpmath<1.4.0,>=1.1.0 in /usr/local/lib/python3.10/dist-packages (from sympy->torch>=1.7.0->ultralytics==8.0.43) (1.3.0)\n",
            "Requirement already satisfied: pyasn1<0.7.0,>=0.4.6 in /usr/local/lib/python3.10/dist-packages (from pyasn1-modules>=0.2.1->google-auth<3,>=1.6.3->tensorboard>=2.4.1->ultralytics==8.0.43) (0.6.0)\n",
            "Requirement already satisfied: oauthlib>=3.0.0 in /usr/local/lib/python3.10/dist-packages (from requests-oauthlib>=0.7.0->google-auth-oauthlib<2,>=0.5->tensorboard>=2.4.1->ultralytics==8.0.43) (3.2.2)\n"
          ]
        }
      ]
    },
    {
      "cell_type": "markdown",
      "source": [],
      "metadata": {
        "id": "aQa5WcqXd1nK"
      }
    },
    {
      "cell_type": "code",
      "source": [
        "from ultralyticsplus import YOLO, render_result\n",
        "import matplotlib.pyplot as plt\n",
        "import cv2\n",
        "import numpy as np\n",
        "\n",
        "model = YOLO('foduucom/plant-leaf-detection-and-classification')\n",
        "#set model parameters\n",
        "model.overrides['conf'] = 0.25  # NMS confidence threshold\n",
        "model.overrides['iou'] = 0.45  # NMS IoU threshold\n",
        "model.overrides['agnostic_nms'] = False  # NMS class-agnostic\n",
        "model.overrides['max_det'] = 1000  # maximum number of detections per image\n",
        "\n",
        "\n"
      ],
      "metadata": {
        "id": "2DZkzeIhQbot"
      },
      "execution_count": null,
      "outputs": []
    },
    {
      "cell_type": "code",
      "source": [
        "image = '/content/photo_2024-06-22_02-21-44.jpg'\n",
        "image=cv2.imread(image)\n",
        "\n",
        "results = model.predict(image)\n"
      ],
      "metadata": {
        "colab": {
          "base_uri": "https://localhost:8080/"
        },
        "id": "6Py8Aqs3MlUl",
        "outputId": "a069abb0-612b-4bff-f487-6b39def1e7b8"
      },
      "execution_count": null,
      "outputs": [
        {
          "output_type": "stream",
          "name": "stderr",
          "text": [
            "\n",
            "0: 640x640 1 tobacco, 1500.5ms\n",
            "Speed: 1.5ms preprocess, 1500.5ms inference, 5.0ms postprocess per image at shape (1, 3, 640, 640)\n"
          ]
        }
      ]
    },
    {
      "cell_type": "code",
      "source": [
        "flag=False\n",
        "for result in results:\n",
        "    for box in result.boxes:\n",
        "        class_id = result.names[box.cls[0].item()]\n",
        "        if (class_id == \"no detections\"):\n",
        "            flag=True\n",
        "            break\n",
        "\n",
        "print(flag)"
      ],
      "metadata": {
        "colab": {
          "base_uri": "https://localhost:8080/"
        },
        "id": "idEcCtSItAgo",
        "outputId": "563f2291-b453-44b1-c8d2-90104f64a1d7"
      },
      "execution_count": null,
      "outputs": [
        {
          "output_type": "stream",
          "name": "stdout",
          "text": [
            "False\n"
          ]
        }
      ]
    },
    {
      "cell_type": "code",
      "source": [
        "\n",
        "render = render_result(model=model, image=image, result=results[0])\n",
        "\n",
        "render=np.array(render)\n",
        "render.shape\n",
        "cv2.imwrite(\"yolo.jpg\",render)"
      ],
      "metadata": {
        "colab": {
          "base_uri": "https://localhost:8080/"
        },
        "id": "97jxRBaFW9Gn",
        "outputId": "83895063-0e6f-46a3-a282-66d0003549fe"
      },
      "execution_count": null,
      "outputs": [
        {
          "output_type": "execute_result",
          "data": {
            "text/plain": [
              "True"
            ]
          },
          "metadata": {},
          "execution_count": 36
        }
      ]
    },
    {
      "cell_type": "markdown",
      "source": [
        "# choose the the biggest box to crop"
      ],
      "metadata": {
        "id": "L6Yo4wbBaO5U"
      }
    },
    {
      "cell_type": "code",
      "source": [
        "res_numpy=np.array(results[0].boxes.xywh)\n",
        "no_res=len(res_numpy)\n",
        "res=[w*h for x,y,w,h in (res_numpy)]\n",
        "box_index=np.argmax(res)\n",
        "box_index\n"
      ],
      "metadata": {
        "colab": {
          "base_uri": "https://localhost:8080/"
        },
        "id": "RrDWKcbJPiPd",
        "outputId": "30e1cc24-c805-4f60-c988-07401182661d"
      },
      "execution_count": null,
      "outputs": [
        {
          "output_type": "execute_result",
          "data": {
            "text/plain": [
              "0"
            ]
          },
          "metadata": {},
          "execution_count": 37
        }
      ]
    },
    {
      "cell_type": "code",
      "source": [
        "res_box=np.array(results[0].boxes[box_index].xyxy)\n",
        "res_box"
      ],
      "metadata": {
        "colab": {
          "base_uri": "https://localhost:8080/"
        },
        "id": "UbH9AVTMRKKi",
        "outputId": "a541bc28-b071-4461-b759-ff7f34413997"
      },
      "execution_count": null,
      "outputs": [
        {
          "output_type": "execute_result",
          "data": {
            "text/plain": [
              "array([[         11,          32,         105,         200]], dtype=float32)"
            ]
          },
          "metadata": {},
          "execution_count": 38
        }
      ]
    },
    {
      "cell_type": "code",
      "source": [
        "x_min=int(res_box[0][0])\n",
        "y_min=int(res_box[0][1])\n",
        "x_max=int(res_box[0][2])\n",
        "y_max=int(res_box[0][3])\n",
        "box=(x_min,y_min,x_max,y_max)\n",
        "box"
      ],
      "metadata": {
        "colab": {
          "base_uri": "https://localhost:8080/"
        },
        "id": "_1n-WWfvQ6xX",
        "outputId": "a5e7bcd4-b7aa-4577-8645-dbd4cd400126"
      },
      "execution_count": null,
      "outputs": [
        {
          "output_type": "execute_result",
          "data": {
            "text/plain": [
              "(11, 32, 105, 200)"
            ]
          },
          "metadata": {},
          "execution_count": 39
        }
      ]
    },
    {
      "cell_type": "code",
      "source": [
        "\n",
        "cropped_image = image[y_min:y_max, x_min:x_max]\n",
        "cropped_image"
      ],
      "metadata": {
        "colab": {
          "base_uri": "https://localhost:8080/",
          "height": 208
        },
        "id": "IGhdMuCahpvL",
        "outputId": "7c971ee7-5b17-4f14-a901-6479a3d6b779"
      },
      "execution_count": null,
      "outputs": [
        {
          "output_type": "execute_result",
          "data": {
            "text/plain": [
              "array([[[174, 230, 211],\n",
              "        [185, 240, 221],\n",
              "        [163, 213, 195],\n",
              "        ...,\n",
              "        [  0,  52,  42],\n",
              "        [  0,  58,  47],\n",
              "        [ 19,  80,  66]],\n",
              "\n",
              "       [[ 54, 113,  93],\n",
              "        [ 58, 114,  95],\n",
              "        [ 51, 106,  87],\n",
              "        ...,\n",
              "        [  9,  69,  59],\n",
              "        [ 17,  74,  65],\n",
              "        [ 18,  77,  63]],\n",
              "\n",
              "       [[ 28,  93,  68],\n",
              "        [ 30,  92,  68],\n",
              "        [ 44, 102,  78],\n",
              "        ...,\n",
              "        [ 30,  87,  78],\n",
              "        [ 38,  91,  82],\n",
              "        [ 38,  91,  81]],\n",
              "\n",
              "       ...,\n",
              "\n",
              "       [[ 83, 115,  91],\n",
              "        [ 76, 112,  88],\n",
              "        [ 72, 110,  88],\n",
              "        ...,\n",
              "        [ 63, 102,  87],\n",
              "        [ 50,  91,  76],\n",
              "        [ 37,  82,  66]],\n",
              "\n",
              "       [[ 82, 114,  90],\n",
              "        [ 76, 112,  88],\n",
              "        [ 73, 111,  89],\n",
              "        ...,\n",
              "        [ 94, 130, 116],\n",
              "        [ 80, 119, 104],\n",
              "        [ 56, 101,  85]],\n",
              "\n",
              "       [[ 81, 113,  89],\n",
              "        [ 76, 112,  88],\n",
              "        [ 74, 112,  90],\n",
              "        ...,\n",
              "        [123, 159, 145],\n",
              "        [110, 149, 134],\n",
              "        [ 88, 131, 116]]], dtype=uint8)"
            ],
            "text/html": [
              "<style>\n",
              "      .ndarray_repr .ndarray_raw_data {\n",
              "        display: none;\n",
              "      }\n",
              "      .ndarray_repr.show_array .ndarray_raw_data {\n",
              "        display: block;\n",
              "      }\n",
              "      .ndarray_repr.show_array .ndarray_image_preview {\n",
              "        display: none;\n",
              "      }\n",
              "      </style>\n",
              "      <div id=\"id-dcd56a2a-85ff-4b98-9934-f9737918dc32\" class=\"ndarray_repr\"><pre>ndarray (168, 94, 3) <button style=\"padding: 0 2px;\">show data</button></pre><img src=\"data:image/png;base64,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\" class=\"ndarray_image_preview\" /><pre class=\"ndarray_raw_data\">array([[[174, 230, 211],\n",
              "        [185, 240, 221],\n",
              "        [163, 213, 195],\n",
              "        ...,\n",
              "        [  0,  52,  42],\n",
              "        [  0,  58,  47],\n",
              "        [ 19,  80,  66]],\n",
              "\n",
              "       [[ 54, 113,  93],\n",
              "        [ 58, 114,  95],\n",
              "        [ 51, 106,  87],\n",
              "        ...,\n",
              "        [  9,  69,  59],\n",
              "        [ 17,  74,  65],\n",
              "        [ 18,  77,  63]],\n",
              "\n",
              "       [[ 28,  93,  68],\n",
              "        [ 30,  92,  68],\n",
              "        [ 44, 102,  78],\n",
              "        ...,\n",
              "        [ 30,  87,  78],\n",
              "        [ 38,  91,  82],\n",
              "        [ 38,  91,  81]],\n",
              "\n",
              "       ...,\n",
              "\n",
              "       [[ 83, 115,  91],\n",
              "        [ 76, 112,  88],\n",
              "        [ 72, 110,  88],\n",
              "        ...,\n",
              "        [ 63, 102,  87],\n",
              "        [ 50,  91,  76],\n",
              "        [ 37,  82,  66]],\n",
              "\n",
              "       [[ 82, 114,  90],\n",
              "        [ 76, 112,  88],\n",
              "        [ 73, 111,  89],\n",
              "        ...,\n",
              "        [ 94, 130, 116],\n",
              "        [ 80, 119, 104],\n",
              "        [ 56, 101,  85]],\n",
              "\n",
              "       [[ 81, 113,  89],\n",
              "        [ 76, 112,  88],\n",
              "        [ 74, 112,  90],\n",
              "        ...,\n",
              "        [123, 159, 145],\n",
              "        [110, 149, 134],\n",
              "        [ 88, 131, 116]]], dtype=uint8)</pre></div><script>\n",
              "      (() => {\n",
              "      const titles = ['show data', 'hide data'];\n",
              "      let index = 0\n",
              "      document.querySelector('#id-dcd56a2a-85ff-4b98-9934-f9737918dc32 button').onclick = (e) => {\n",
              "        document.querySelector('#id-dcd56a2a-85ff-4b98-9934-f9737918dc32').classList.toggle('show_array');\n",
              "        index = (++index) % 2;\n",
              "        document.querySelector('#id-dcd56a2a-85ff-4b98-9934-f9737918dc32 button').textContent = titles[index];\n",
              "        e.preventDefault();\n",
              "        e.stopPropagation();\n",
              "      }\n",
              "      })();\n",
              "    </script>"
            ]
          },
          "metadata": {},
          "execution_count": 40
        }
      ]
    },
    {
      "cell_type": "code",
      "source": [
        "cv2.imwrite(\"cropped_image.jpg\",cropped_image)"
      ],
      "metadata": {
        "colab": {
          "base_uri": "https://localhost:8080/"
        },
        "id": "CDoLjtJlkMNG",
        "outputId": "4498ee0e-8e36-4a18-ae7d-12f69668b95e"
      },
      "execution_count": null,
      "outputs": [
        {
          "output_type": "execute_result",
          "data": {
            "text/plain": [
              "True"
            ]
          },
          "metadata": {},
          "execution_count": 41
        }
      ]
    },
    {
      "cell_type": "code",
      "source": [],
      "metadata": {
        "id": "W6-MKoch9c_d"
      },
      "execution_count": null,
      "outputs": []
    }
  ]
}