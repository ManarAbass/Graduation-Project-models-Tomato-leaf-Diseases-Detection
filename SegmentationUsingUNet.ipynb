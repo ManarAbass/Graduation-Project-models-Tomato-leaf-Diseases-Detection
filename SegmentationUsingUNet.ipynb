{
 "cells": [
  {
   "cell_type": "code",
   "execution_count": 1,
   "metadata": {
    "execution": {
     "iopub.execute_input": "2024-05-18T14:13:39.715143Z",
     "iopub.status.busy": "2024-05-18T14:13:39.714390Z",
     "iopub.status.idle": "2024-05-18T14:13:45.083976Z",
     "shell.execute_reply": "2024-05-18T14:13:45.083239Z",
     "shell.execute_reply.started": "2024-05-12T06:58:51.334754Z"
    },
    "papermill": {
     "duration": 5.435315,
     "end_time": "2024-05-18T14:13:45.084092",
     "exception": false,
     "start_time": "2024-05-18T14:13:39.648777",
     "status": "completed"
    },
    "tags": []
   },
   "outputs": [],
   "source": [
    "import tensorflow as tf\n",
    "from tensorflow import keras\n",
    "from tensorflow.keras import layers\n",
    "import tensorflow_datasets as tfds\n",
    "import matplotlib.pyplot as plt\n",
    "import numpy as np \n",
    "import pandas as pd \n",
    "import cv2 as cv"
   ]
  },
  {
   "cell_type": "markdown",
   "metadata": {
    "papermill": {
     "duration": 0.059251,
     "end_time": "2024-05-18T14:13:45.323142",
     "exception": false,
     "start_time": "2024-05-18T14:13:45.263891",
     "status": "completed"
    },
    "tags": []
   },
   "source": [
    "## original"
   ]
  },
  {
   "cell_type": "code",
   "execution_count": 2,
   "metadata": {
    "execution": {
     "iopub.execute_input": "2024-05-18T14:13:45.452376Z",
     "iopub.status.busy": "2024-05-18T14:13:45.451551Z",
     "iopub.status.idle": "2024-05-18T14:13:45.453849Z",
     "shell.execute_reply": "2024-05-18T14:13:45.454312Z",
     "shell.execute_reply.started": "2024-05-12T06:58:51.864650Z"
    },
    "papermill": {
     "duration": 0.071931,
     "end_time": "2024-05-18T14:13:45.454451",
     "exception": false,
     "start_time": "2024-05-18T14:13:45.382520",
     "status": "completed"
    },
    "tags": []
   },
   "outputs": [],
   "source": [
    "import os\n",
    "#from sklearn.model_selection import train_test_split\n",
    "def load_preprocessing_data(path,size):\n",
    "    images_data=[]\n",
    "    pathes=[]\n",
    "    c=-1\n",
    "    labels=[]\n",
    "    for folder in os.listdir(path):\n",
    "        folder_path = os.path.join(path, folder)\n",
    "        i=0\n",
    "        c+=1\n",
    "        for file in os.listdir(folder_path):\n",
    "            img_path=os.path.join(folder_path, file)\n",
    "            pathes.append(img_path)\n",
    "            i+=1\n",
    "            labels.append(c)\n",
    "            if i==300:break\n",
    "            \n",
    "    images_data=np.array([cv.resize((cv.imread(i)), size) for i in pathes])\n",
    "    labels=np.array(labels)\n",
    "    images_data=images_data.astype(np.float32) / 255.0\n",
    "    #np.random.shuffle(images_data)\n",
    "    \n",
    "    return images_data,labels"
   ]
  },
  {
   "cell_type": "code",
   "execution_count": 3,
   "metadata": {
    "execution": {
     "iopub.execute_input": "2024-05-18T14:13:45.576781Z",
     "iopub.status.busy": "2024-05-18T14:13:45.576060Z",
     "iopub.status.idle": "2024-05-18T14:14:10.969419Z",
     "shell.execute_reply": "2024-05-18T14:14:10.968868Z",
     "shell.execute_reply.started": "2024-05-12T06:58:51.877140Z"
    },
    "papermill": {
     "duration": 25.456069,
     "end_time": "2024-05-18T14:14:10.969569",
     "exception": false,
     "start_time": "2024-05-18T14:13:45.513500",
     "status": "completed"
    },
    "tags": []
   },
   "outputs": [],
   "source": [
    "path='/kaggle/input/tomatoleaf/tomato/train'   \n",
    "\n",
    "\n",
    "size=(256,256)\n",
    "x,labels=load_preprocessing_data(path,size)"
   ]
  },
  {
   "cell_type": "markdown",
   "metadata": {
    "papermill": {
     "duration": 0.058049,
     "end_time": "2024-05-18T14:14:11.086347",
     "exception": false,
     "start_time": "2024-05-18T14:14:11.028298",
     "status": "completed"
    },
    "tags": []
   },
   "source": [
    "## Masks"
   ]
  },
  {
   "cell_type": "code",
   "execution_count": 4,
   "metadata": {
    "execution": {
     "iopub.execute_input": "2024-05-18T14:14:11.213465Z",
     "iopub.status.busy": "2024-05-18T14:14:11.212807Z",
     "iopub.status.idle": "2024-05-18T14:14:11.215912Z",
     "shell.execute_reply": "2024-05-18T14:14:11.215287Z",
     "shell.execute_reply.started": "2024-05-12T06:59:20.194653Z"
    },
    "papermill": {
     "duration": 0.070842,
     "end_time": "2024-05-18T14:14:11.216014",
     "exception": false,
     "start_time": "2024-05-18T14:14:11.145172",
     "status": "completed"
    },
    "tags": []
   },
   "outputs": [],
   "source": [
    "\n",
    "import os\n",
    "#from sklearn.model_selection import train_test_split\n",
    "def load_preprocessing_data(path,size):\n",
    "    images_data=[]\n",
    "    pathes=[]\n",
    "    #c=-1\n",
    "    #labels=[]\n",
    "    for folder in os.listdir(path):\n",
    "        folder_path = os.path.join(path, folder)\n",
    "        i=0\n",
    "        #c+=1\n",
    "        for file in os.listdir(folder_path):\n",
    "            img_path=os.path.join(folder_path, file)\n",
    "            pathes.append(img_path)\n",
    "            i+=1\n",
    "            #labels.append(c)\n",
    "            if i==300:break\n",
    "            \n",
    "    images_data=np.array([cv.resize((cv.imread(i,cv.IMREAD_GRAYSCALE)), size) for i in pathes])\n",
    "    #labels=np.array(labels)\n",
    "    images_data=images_data.astype(np.float32) / 255.0\n",
    "    #np.random.shuffle(images_data)\n",
    "    \n",
    "    return images_data\n"
   ]
  },
  {
   "cell_type": "code",
   "execution_count": 5,
   "metadata": {
    "execution": {
     "iopub.execute_input": "2024-05-18T14:14:11.338731Z",
     "iopub.status.busy": "2024-05-18T14:14:11.338038Z",
     "iopub.status.idle": "2024-05-18T14:14:28.080205Z",
     "shell.execute_reply": "2024-05-18T14:14:28.079502Z",
     "shell.execute_reply.started": "2024-05-12T06:59:20.207482Z"
    },
    "papermill": {
     "duration": 16.804628,
     "end_time": "2024-05-18T14:14:28.080329",
     "exception": false,
     "start_time": "2024-05-18T14:14:11.275701",
     "status": "completed"
    },
    "tags": []
   },
   "outputs": [],
   "source": [
    "path='/kaggle/input/tomato-leaf-disease-dataset-segmented/train'\n",
    "size=(256,256)\n",
    "y=load_preprocessing_data(path,size)"
   ]
  },
  {
   "cell_type": "code",
   "execution_count": 6,
   "metadata": {
    "execution": {
     "iopub.execute_input": "2024-05-18T14:14:28.212550Z",
     "iopub.status.busy": "2024-05-18T14:14:28.211850Z",
     "iopub.status.idle": "2024-05-18T14:14:28.214655Z",
     "shell.execute_reply": "2024-05-18T14:14:28.214054Z",
     "shell.execute_reply.started": "2024-05-12T06:59:26.566894Z"
    },
    "papermill": {
     "duration": 0.074427,
     "end_time": "2024-05-18T14:14:28.214764",
     "exception": false,
     "start_time": "2024-05-18T14:14:28.140337",
     "status": "completed"
    },
    "tags": []
   },
   "outputs": [],
   "source": [
    "import random\n",
    "\n",
    "# Assuming x, labels, and masks are lists with the same length\n",
    "combined = list(zip(x, labels, y))\n",
    "\n",
    "# Shuffle the combined list\n",
    "random.shuffle(combined)\n",
    "\n",
    "# Split the shuffled list back into separate lists\n",
    "x, labels, y= zip(*combined)"
   ]
  },
  {
   "cell_type": "code",
   "execution_count": 7,
   "metadata": {
    "execution": {
     "iopub.execute_input": "2024-05-18T14:14:28.342043Z",
     "iopub.status.busy": "2024-05-18T14:14:28.341297Z",
     "iopub.status.idle": "2024-05-18T14:14:28.547833Z",
     "shell.execute_reply": "2024-05-18T14:14:28.547298Z",
     "shell.execute_reply.started": "2024-05-12T06:59:26.579871Z"
    },
    "papermill": {
     "duration": 0.272389,
     "end_time": "2024-05-18T14:14:28.547944",
     "exception": false,
     "start_time": "2024-05-18T14:14:28.275555",
     "status": "completed"
    },
    "tags": []
   },
   "outputs": [
    {
     "data": {
      "text/plain": [
       "<matplotlib.image.AxesImage at 0x7c7fb56ed510>"
      ]
     },
     "execution_count": 7,
     "metadata": {},
     "output_type": "execute_result"
    },
    {
     "data": {
      "image/png": "[encoded data removed]",
      "text/plain": [
       "<Figure size 432x288 with 1 Axes>"
      ]
     },
     "metadata": {
      "needs_background": "light"
     },
     "output_type": "display_data"
    }
   ],
   "source": [
    "plt.imshow(y[1],cmap='gray')"
   ]
  },
  {
   "cell_type": "code",
   "execution_count": 8,
   "metadata": {
    "execution": {
     "iopub.execute_input": "2024-05-18T14:14:28.679072Z",
     "iopub.status.busy": "2024-05-18T14:14:28.678366Z",
     "iopub.status.idle": "2024-05-18T14:14:29.590460Z",
     "shell.execute_reply": "2024-05-18T14:14:29.589796Z",
     "shell.execute_reply.started": "2024-05-12T06:59:26.746434Z"
    },
    "papermill": {
     "duration": 0.979674,
     "end_time": "2024-05-18T14:14:29.590601",
     "exception": false,
     "start_time": "2024-05-18T14:14:28.610927",
     "status": "completed"
    },
    "tags": []
   },
   "outputs": [],
   "source": [
    "\n",
    "y=np.array(y)\n",
    "y=((y/255.0)>0).astype('int')"
   ]
  },
  {
   "cell_type": "code",
   "execution_count": 9,
   "metadata": {
    "execution": {
     "iopub.execute_input": "2024-05-18T14:14:29.720361Z",
     "iopub.status.busy": "2024-05-18T14:14:29.719678Z",
     "iopub.status.idle": "2024-05-18T14:14:30.403694Z",
     "shell.execute_reply": "2024-05-18T14:14:30.402975Z",
     "shell.execute_reply.started": "2024-05-12T06:59:27.736684Z"
    },
    "papermill": {
     "duration": 0.751026,
     "end_time": "2024-05-18T14:14:30.403841",
     "exception": false,
     "start_time": "2024-05-18T14:14:29.652815",
     "status": "completed"
    },
    "tags": []
   },
   "outputs": [],
   "source": [
    "x=np.array(x)\n",
    "labels=np.array(labels)"
   ]
  },
  {
   "cell_type": "code",
   "execution_count": 10,
   "metadata": {
    "execution": {
     "iopub.execute_input": "2024-05-18T14:14:30.538916Z",
     "iopub.status.busy": "2024-05-18T14:14:30.538290Z",
     "iopub.status.idle": "2024-05-18T14:14:30.685754Z",
     "shell.execute_reply": "2024-05-18T14:14:30.685178Z",
     "shell.execute_reply.started": "2024-05-12T06:59:28.426726Z"
    },
    "papermill": {
     "duration": 0.220956,
     "end_time": "2024-05-18T14:14:30.685868",
     "exception": false,
     "start_time": "2024-05-18T14:14:30.464912",
     "status": "completed"
    },
    "tags": []
   },
   "outputs": [
    {
     "data": {
      "text/plain": [
       "<matplotlib.image.AxesImage at 0x7c7fb568de90>"
      ]
     },
     "execution_count": 10,
     "metadata": {},
     "output_type": "execute_result"
    },
    {
     "data": {
      "image/png": "[encoded data removed]",
      "text/plain": [
       "<Figure size 432x288 with 1 Axes>"
      ]
     },
     "metadata": {
      "needs_background": "light"
     },
     "output_type": "display_data"
    }
   ],
   "source": [
    "plt.imshow(y[1],cmap='gray')"
   ]
  },
  {
   "cell_type": "code",
   "execution_count": 11,
   "metadata": {
    "execution": {
     "iopub.execute_input": "2024-05-18T14:14:30.818606Z",
     "iopub.status.busy": "2024-05-18T14:14:30.817570Z",
     "iopub.status.idle": "2024-05-18T14:14:30.820462Z",
     "shell.execute_reply": "2024-05-18T14:14:30.819926Z",
     "shell.execute_reply.started": "2024-05-12T06:59:28.583348Z"
    },
    "papermill": {
     "duration": 0.071401,
     "end_time": "2024-05-18T14:14:30.820632",
     "exception": false,
     "start_time": "2024-05-18T14:14:30.749231",
     "status": "completed"
    },
    "tags": []
   },
   "outputs": [],
   "source": [
    "x_train=x[:2000]\n",
    "x_val= x[2000:2500]        \n",
    "x_test= x[2500:]\n",
    "train_labels=labels[:2000]\n",
    "val_labels= labels[2000:2500]        \n",
    "test_labels= labels[2500:]\n"
   ]
  },
  {
   "cell_type": "code",
   "execution_count": 12,
   "metadata": {
    "execution": {
     "iopub.execute_input": "2024-05-18T14:14:30.952635Z",
     "iopub.status.busy": "2024-05-18T14:14:30.951728Z",
     "iopub.status.idle": "2024-05-18T14:14:30.954523Z",
     "shell.execute_reply": "2024-05-18T14:14:30.954000Z",
     "shell.execute_reply.started": "2024-05-12T06:59:28.590266Z"
    },
    "papermill": {
     "duration": 0.070753,
     "end_time": "2024-05-18T14:14:30.954654",
     "exception": false,
     "start_time": "2024-05-18T14:14:30.883901",
     "status": "completed"
    },
    "tags": []
   },
   "outputs": [],
   "source": [
    "\n",
    "\n",
    "y_train=y[:2000]\n",
    "y_val= y[2000:2500]     \n",
    "y_test= y[2500:]"
   ]
  },
  {
   "cell_type": "markdown",
   "metadata": {
    "papermill": {
     "duration": 0.062319,
     "end_time": "2024-05-18T14:14:31.079419",
     "exception": false,
     "start_time": "2024-05-18T14:14:31.017100",
     "status": "completed"
    },
    "tags": []
   },
   "source": [
    "## U_Net segmentation model"
   ]
  },
  {
   "cell_type": "code",
   "execution_count": 13,
   "metadata": {
    "execution": {
     "iopub.execute_input": "2024-05-18T14:14:31.215517Z",
     "iopub.status.busy": "2024-05-18T14:14:31.214529Z",
     "iopub.status.idle": "2024-05-18T14:14:31.217545Z",
     "shell.execute_reply": "2024-05-18T14:14:31.216928Z",
     "shell.execute_reply.started": "2024-05-12T06:59:28.601965Z"
    },
    "papermill": {
     "duration": 0.074177,
     "end_time": "2024-05-18T14:14:31.217672",
     "exception": false,
     "start_time": "2024-05-18T14:14:31.143495",
     "status": "completed"
    },
    "tags": []
   },
   "outputs": [],
   "source": [
    "def double_conv_block(x, n_filters):\n",
    "\n",
    "    # Conv2D then ReLU activation\n",
    "    x = layers.Conv2D(n_filters, 3, padding = \"same\", activation = \"relu\", kernel_initializer = \"he_normal\")(x)\n",
    "    # Conv2D then ReLU activation\n",
    "    x = layers.Conv2D(n_filters, 3, padding = \"same\", activation = \"relu\", kernel_initializer = \"he_normal\")(x)\n",
    "\n",
    "    return x"
   ]
  },
  {
   "cell_type": "code",
   "execution_count": 14,
   "metadata": {
    "execution": {
     "iopub.execute_input": "2024-05-18T14:14:31.352028Z",
     "iopub.status.busy": "2024-05-18T14:14:31.351058Z",
     "iopub.status.idle": "2024-05-18T14:14:31.354035Z",
     "shell.execute_reply": "2024-05-18T14:14:31.353351Z",
     "shell.execute_reply.started": "2024-05-12T06:59:28.613342Z"
    },
    "papermill": {
     "duration": 0.072763,
     "end_time": "2024-05-18T14:14:31.354141",
     "exception": false,
     "start_time": "2024-05-18T14:14:31.281378",
     "status": "completed"
    },
    "tags": []
   },
   "outputs": [],
   "source": [
    "def downsample_block(x, n_filters):\n",
    "    f = double_conv_block(x, n_filters)\n",
    "    p = layers.MaxPool2D(2)(f)\n",
    "    p = layers.Dropout(0.3)(p)\n",
    "\n",
    "    return f, p"
   ]
  },
  {
   "cell_type": "code",
   "execution_count": 15,
   "metadata": {
    "execution": {
     "iopub.execute_input": "2024-05-18T14:14:31.492717Z",
     "iopub.status.busy": "2024-05-18T14:14:31.491778Z",
     "iopub.status.idle": "2024-05-18T14:14:31.494975Z",
     "shell.execute_reply": "2024-05-18T14:14:31.494177Z",
     "shell.execute_reply.started": "2024-05-12T06:59:28.623579Z"
    },
    "papermill": {
     "duration": 0.077064,
     "end_time": "2024-05-18T14:14:31.495138",
     "exception": false,
     "start_time": "2024-05-18T14:14:31.418074",
     "status": "completed"
    },
    "tags": []
   },
   "outputs": [],
   "source": [
    "def upsample_block(x, conv_features, n_filters):\n",
    "    # upsample\n",
    "    x = layers.Conv2DTranspose(n_filters, 3, 2, padding=\"same\")(x)\n",
    "    # concatenate \n",
    "    x = layers.concatenate([x, conv_features])\n",
    "    # dropout\n",
    "    x = layers.Dropout(0.3)(x)\n",
    "    # Conv2D twice with ReLU activation\n",
    "    x = double_conv_block(x, n_filters)\n",
    "\n",
    "    return x"
   ]
  },
  {
   "cell_type": "code",
   "execution_count": 16,
   "metadata": {
    "execution": {
     "iopub.execute_input": "2024-05-18T14:14:31.634591Z",
     "iopub.status.busy": "2024-05-18T14:14:31.633560Z",
     "iopub.status.idle": "2024-05-18T14:14:31.636573Z",
     "shell.execute_reply": "2024-05-18T14:14:31.636028Z",
     "shell.execute_reply.started": "2024-05-12T06:59:28.633673Z"
    },
    "papermill": {
     "duration": 0.078291,
     "end_time": "2024-05-18T14:14:31.636698",
     "exception": false,
     "start_time": "2024-05-18T14:14:31.558407",
     "status": "completed"
    },
    "tags": []
   },
   "outputs": [],
   "source": [
    "def build_unet_model():\n",
    "\n",
    "    # inputs\n",
    "    inputs = layers.Input(shape=(256,256,3))\n",
    "\n",
    "    # encoder: contracting path - downsample\n",
    "    # 1 - downsample\n",
    "    f1, p1 = downsample_block(inputs, 64)\n",
    "    # 2 - downsample\n",
    "    f2, p2 = downsample_block(p1, 128)\n",
    "    # 3 - downsample\n",
    "    f3, p3 = downsample_block(p2, 256)\n",
    "    # 4 - downsample\n",
    "    f4, p4 = downsample_block(p3, 512)\n",
    "\n",
    "    # 5 - bottleneck\n",
    "    bottleneck = double_conv_block(p4, 1024)\n",
    "\n",
    "    # decoder: expanding path - upsample\n",
    "    # 6 - upsample\n",
    "    u6 = upsample_block(bottleneck, f4, 512)\n",
    "    # 7 - upsample\n",
    "    u7 = upsample_block(u6, f3, 256)\n",
    "    # 8 - upsample\n",
    "    u8 = upsample_block(u7, f2, 128)\n",
    "    # 9 - upsample\n",
    "    u9 = upsample_block(u8, f1, 64)\n",
    "\n",
    "    # outputs\n",
    "    outputs = layers.Conv2D(3, 1, padding=\"same\", activation = \"softmax\")(u9)#3\n",
    "\n",
    "    # unet model with Keras Functional API\n",
    "    unet_model = tf.keras.Model(inputs, outputs, name=\"U-Net\")\n",
    "\n",
    "    return unet_model"
   ]
  },
  {
   "cell_type": "code",
   "execution_count": 17,
   "metadata": {
    "execution": {
     "iopub.execute_input": "2024-05-18T14:14:31.771840Z",
     "iopub.status.busy": "2024-05-18T14:14:31.771037Z",
     "iopub.status.idle": "2024-05-18T14:14:33.896507Z",
     "shell.execute_reply": "2024-05-18T14:14:33.895867Z",
     "shell.execute_reply.started": "2024-05-12T06:59:28.648704Z"
    },
    "papermill": {
     "duration": 2.193189,
     "end_time": "2024-05-18T14:14:33.896635",
     "exception": false,
     "start_time": "2024-05-18T14:14:31.703446",
     "status": "completed"
    },
    "tags": []
   },
   "outputs": [],
   "source": [
    "unet_model = build_unet_model()"
   ]
  },
  {
   "cell_type": "code",
   "execution_count": 18,
   "metadata": {
    "execution": {
     "iopub.execute_input": "2024-05-18T14:14:34.035244Z",
     "iopub.status.busy": "2024-05-18T14:14:34.034305Z",
     "iopub.status.idle": "2024-05-18T14:14:34.040968Z",
     "shell.execute_reply": "2024-05-18T14:14:34.040466Z",
     "shell.execute_reply.started": "2024-05-12T06:59:28.961844Z"
    },
    "papermill": {
     "duration": 0.081382,
     "end_time": "2024-05-18T14:14:34.041107",
     "exception": false,
     "start_time": "2024-05-18T14:14:33.959725",
     "status": "completed"
    },
    "tags": []
   },
   "outputs": [],
   "source": [
    "from tensorflow.keras.losses import BinaryCrossentropy\n",
    "unet_model.compile(optimizer=tf.keras.optimizers.Adam(),#BinaryCrossentropy()\n",
    "                   loss=\"sparse_categorical_crossentropy\",#BinaryCrossentropy(),#BinaryCrossentropy(),#\"categorical_crossentropy\",#\"categorical_crossentropy\",#\"sparse_categorical_crossentropy\"\n",
    "                   metrics=[\"accuracy\"])"
   ]
  },
  {
   "cell_type": "code",
   "execution_count": 19,
   "metadata": {
    "execution": {
     "iopub.execute_input": "2024-05-18T14:14:34.172844Z",
     "iopub.status.busy": "2024-05-18T14:14:34.171880Z",
     "iopub.status.idle": "2024-05-18T14:14:34.175723Z",
     "shell.execute_reply": "2024-05-18T14:14:34.175021Z",
     "shell.execute_reply.started": "2024-05-12T06:59:28.978126Z"
    },
    "papermill": {
     "duration": 0.072724,
     "end_time": "2024-05-18T14:14:34.175836",
     "exception": false,
     "start_time": "2024-05-18T14:14:34.103112",
     "status": "completed"
    },
    "tags": []
   },
   "outputs": [
    {
     "data": {
      "text/plain": [
       "((2000, 256, 256, 3), (2000, 256, 256), (500, 256, 256, 3), (500, 256, 256))"
      ]
     },
     "execution_count": 19,
     "metadata": {},
     "output_type": "execute_result"
    }
   ],
   "source": [
    "x_train.shape,y_train.shape,x_val.shape,y_val.shape"
   ]
  },
  {
   "cell_type": "code",
   "execution_count": 20,
   "metadata": {
    "execution": {
     "iopub.execute_input": "2024-05-18T14:14:35.594878Z",
     "iopub.status.busy": "2024-05-18T14:14:35.593941Z",
     "iopub.status.idle": "2024-05-18T14:14:37.151731Z",
     "shell.execute_reply": "2024-05-18T14:14:37.151156Z",
     "shell.execute_reply.started": "2024-05-12T06:59:28.988437Z"
    },
    "papermill": {
     "duration": 2.911076,
     "end_time": "2024-05-18T14:14:37.151844",
     "exception": false,
     "start_time": "2024-05-18T14:14:34.240768",
     "status": "completed"
    },
    "tags": []
   },
   "outputs": [],
   "source": [
    "x_train = tf.convert_to_tensor(x_train, dtype=tf.float32)\n",
    "y_train = tf.convert_to_tensor(y_train, dtype=tf.float32)\n",
    "x_test= tf.convert_to_tensor(x_test, dtype=tf.float32)\n",
    "y_test = tf.convert_to_tensor(y_test, dtype=tf.float32)\n",
    "x_val= tf.convert_to_tensor(x_val, dtype=tf.float32)\n",
    "y_val = tf.convert_to_tensor(y_val, dtype=tf.float32)"
   ]
  },
  {
   "cell_type": "code",
   "execution_count": 21,
   "metadata": {
    "execution": {
     "iopub.execute_input": "2024-05-18T14:14:37.285069Z",
     "iopub.status.busy": "2024-05-18T14:14:37.284326Z",
     "iopub.status.idle": "2024-05-18T14:21:05.857336Z",
     "shell.execute_reply": "2024-05-18T14:21:05.856640Z",
     "shell.execute_reply.started": "2024-05-12T06:59:31.802358Z"
    },
    "papermill": {
     "duration": 388.642902,
     "end_time": "2024-05-18T14:21:05.857459",
     "exception": false,
     "start_time": "2024-05-18T14:14:37.214557",
     "status": "completed"
    },
    "tags": []
   },
   "outputs": [
    {
     "name": "stdout",
     "output_type": "stream",
     "text": [
      "Epoch 1/5\n",
      "500/500 [==============================] - 77s 153ms/step - loss: 0.1511 - accuracy: 0.9410 - val_loss: 0.0925 - val_accuracy: 0.9625\n",
      "Epoch 2/5\n",
      "500/500 [==============================] - 77s 153ms/step - loss: 0.1178 - accuracy: 0.9574 - val_loss: 0.1232 - val_accuracy: 0.9522\n",
      "Epoch 3/5\n",
      "500/500 [==============================] - 77s 153ms/step - loss: 0.0936 - accuracy: 0.9627 - val_loss: 0.0877 - val_accuracy: 0.9643\n",
      "Epoch 4/5\n",
      "500/500 [==============================] - 77s 153ms/step - loss: 0.1083 - accuracy: 0.9612 - val_loss: 0.0975 - val_accuracy: 0.9576\n",
      "Epoch 5/5\n",
      "500/500 [==============================] - 77s 153ms/step - loss: 0.0899 - accuracy: 0.9635 - val_loss: 0.0835 - val_accuracy: 0.9656\n"
     ]
    }
   ],
   "source": [
    "history=unet_model.fit(x_train,y_train,validation_data=(x_val,y_val),epochs=5,batch_size=4) #,batch_size=16"
   ]
  },
  {
   "cell_type": "markdown",
   "metadata": {
    "papermill": {
     "duration": 0.937094,
     "end_time": "2024-05-18T14:21:07.752068",
     "exception": false,
     "start_time": "2024-05-18T14:21:06.814974",
     "status": "completed"
    },
    "tags": []
   },
   "source": [
    "## Save model"
   ]
  },
  {
   "cell_type": "code",
   "execution_count": 22,
   "metadata": {
    "execution": {
     "iopub.execute_input": "2024-05-18T14:21:09.675818Z",
     "iopub.status.busy": "2024-05-18T14:21:09.675014Z",
     "iopub.status.idle": "2024-05-18T14:21:10.400534Z",
     "shell.execute_reply": "2024-05-18T14:21:10.399858Z",
     "shell.execute_reply.started": "2024-05-12T07:05:58.221169Z"
    },
    "papermill": {
     "duration": 1.710964,
     "end_time": "2024-05-18T14:21:10.400655",
     "exception": false,
     "start_time": "2024-05-18T14:21:08.689691",
     "status": "completed"
    },
    "tags": []
   },
   "outputs": [],
   "source": [
    "unet_model.save('unet_model.h5', save_format='h5')"
   ]
  },
  {
   "cell_type": "code",
   "execution_count": 23,
   "metadata": {
    "execution": {
     "iopub.execute_input": "2024-05-18T14:21:12.275763Z",
     "iopub.status.busy": "2024-05-18T14:21:12.275006Z",
     "iopub.status.idle": "2024-05-18T14:21:12.277614Z",
     "shell.execute_reply": "2024-05-18T14:21:12.278123Z",
     "shell.execute_reply.started": "2024-05-12T07:05:58.984698Z"
    },
    "jupyter": {
     "source_hidden": true
    },
    "papermill": {
     "duration": 0.952508,
     "end_time": "2024-05-18T14:21:12.278253",
     "exception": false,
     "start_time": "2024-05-18T14:21:11.325745",
     "status": "completed"
    },
    "tags": []
   },
   "outputs": [],
   "source": [
    "import pickle"
   ]
  },
  {
   "cell_type": "code",
   "execution_count": 24,
   "metadata": {
    "execution": {
     "iopub.execute_input": "2024-05-18T14:21:14.175213Z",
     "iopub.status.busy": "2024-05-18T14:21:14.174515Z",
     "iopub.status.idle": "2024-05-18T14:21:14.177548Z",
     "shell.execute_reply": "2024-05-18T14:21:14.176900Z",
     "shell.execute_reply.started": "2024-05-12T07:13:22.201437Z"
    },
    "papermill": {
     "duration": 0.966474,
     "end_time": "2024-05-18T14:21:14.177657",
     "exception": false,
     "start_time": "2024-05-18T14:21:13.211183",
     "status": "completed"
    },
    "tags": []
   },
   "outputs": [],
   "source": [
    "#pickle.dump(unet_model, open('model.pkl', 'wb'))"
   ]
  },
  {
   "cell_type": "code",
   "execution_count": 25,
   "metadata": {
    "execution": {
     "iopub.execute_input": "2024-05-18T14:21:16.044923Z",
     "iopub.status.busy": "2024-05-18T14:21:16.044203Z",
     "iopub.status.idle": "2024-05-18T14:21:23.573694Z",
     "shell.execute_reply": "2024-05-18T14:21:23.573032Z",
     "shell.execute_reply.started": "2024-05-12T07:16:57.460056Z"
    },
    "papermill": {
     "duration": 8.468936,
     "end_time": "2024-05-18T14:21:23.573808",
     "exception": false,
     "start_time": "2024-05-18T14:21:15.104872",
     "status": "completed"
    },
    "tags": []
   },
   "outputs": [
    {
     "name": "stdout",
     "output_type": "stream",
     "text": [
      "16/16 [==============================] - 5s 316ms/step - loss: 0.0781 - accuracy: 0.9679\n"
     ]
    },
    {
     "data": {
      "text/plain": [
       "[0.0781136155128479, 0.9679427742958069]"
      ]
     },
     "execution_count": 25,
     "metadata": {},
     "output_type": "execute_result"
    }
   ],
   "source": [
    "unet_model.evaluate(x_test,y_test)"
   ]
  },
  {
   "cell_type": "code",
   "execution_count": 26,
   "metadata": {
    "execution": {
     "iopub.execute_input": "2024-05-18T14:21:25.520243Z",
     "iopub.status.busy": "2024-05-18T14:21:25.519593Z",
     "iopub.status.idle": "2024-05-18T14:21:26.520829Z",
     "shell.execute_reply": "2024-05-18T14:21:26.520191Z",
     "shell.execute_reply.started": "2024-05-12T11:01:07.393269Z"
    },
    "papermill": {
     "duration": 2.018776,
     "end_time": "2024-05-18T14:21:26.520981",
     "exception": false,
     "start_time": "2024-05-18T14:21:24.502205",
     "status": "completed"
    },
    "tags": []
   },
   "outputs": [],
   "source": [
    "import tensorflow as tf\n",
    "\n",
    "\n",
    "loaded_model = tf.keras.models.load_model('unet_model.h5')"
   ]
  },
  {
   "cell_type": "code",
   "execution_count": 27,
   "metadata": {
    "execution": {
     "iopub.execute_input": "2024-05-18T14:21:28.462676Z",
     "iopub.status.busy": "2024-05-18T14:21:28.461771Z",
     "iopub.status.idle": "2024-05-18T14:21:32.964905Z",
     "shell.execute_reply": "2024-05-18T14:21:32.964147Z",
     "shell.execute_reply.started": "2024-05-12T07:18:26.511364Z"
    },
    "papermill": {
     "duration": 5.485113,
     "end_time": "2024-05-18T14:21:32.965026",
     "exception": false,
     "start_time": "2024-05-18T14:21:27.479913",
     "status": "completed"
    },
    "tags": []
   },
   "outputs": [],
   "source": [
    "_pred=unet_model.predict(x_test)"
   ]
  },
  {
   "cell_type": "code",
   "execution_count": 28,
   "metadata": {
    "execution": {
     "iopub.execute_input": "2024-05-18T14:21:34.859584Z",
     "iopub.status.busy": "2024-05-18T14:21:34.858709Z",
     "iopub.status.idle": "2024-05-18T14:21:39.319512Z",
     "shell.execute_reply": "2024-05-18T14:21:39.318955Z",
     "shell.execute_reply.started": "2024-05-12T07:18:30.781450Z"
    },
    "papermill": {
     "duration": 5.393477,
     "end_time": "2024-05-18T14:21:39.319636",
     "exception": false,
     "start_time": "2024-05-18T14:21:33.926159",
     "status": "completed"
    },
    "tags": []
   },
   "outputs": [],
   "source": [
    "pred_=loaded_model.predict(x_test)"
   ]
  },
  {
   "cell_type": "code",
   "execution_count": 29,
   "metadata": {
    "execution": {
     "iopub.execute_input": "2024-05-18T14:21:41.189387Z",
     "iopub.status.busy": "2024-05-18T14:21:41.188748Z",
     "iopub.status.idle": "2024-05-18T14:21:41.944912Z",
     "shell.execute_reply": "2024-05-18T14:21:41.945447Z",
     "shell.execute_reply.started": "2024-05-12T07:31:36.821429Z"
    },
    "papermill": {
     "duration": 1.687953,
     "end_time": "2024-05-18T14:21:41.945605",
     "exception": false,
     "start_time": "2024-05-18T14:21:40.257652",
     "status": "completed"
    },
    "tags": []
   },
   "outputs": [
    {
     "data": {
      "image/png": "[encoded data removed]",
      "text/plain": [
       "<Figure size 720x288 with 10 Axes>"
      ]
     },
     "metadata": {
      "needs_background": "light"
     },
     "output_type": "display_data"
    }
   ],
   "source": [
    "import matplotlib.pyplot as plt\n",
    "\n",
    "# Assuming images is a NumPy array with shape (num_images, height, width, channels)\n",
    "# where num_images is the number of images to display\n",
    "# You can adjust the figure size and layout based on your preference\n",
    "fig, axes = plt.subplots(nrows=1, ncols=len(x_test[20:30]), figsize=(10, 4))\n",
    "\n",
    "# Iterate over each image and display it\n",
    "for i, image in enumerate(x_test[20:30]):\n",
    "    axes[i].imshow(image)\n",
    "    axes[i].axis('off')  # Hide the axes\n",
    "    axes[i].set_title(f'Image {i+1}')  # Set title for each image\n",
    "\n",
    "plt.tight_layout()  # Adjust layout to make sure titles don't overlap\n",
    "plt.show()"
   ]
  },
  {
   "cell_type": "code",
   "execution_count": 30,
   "metadata": {
    "execution": {
     "iopub.execute_input": "2024-05-18T14:21:43.916504Z",
     "iopub.status.busy": "2024-05-18T14:21:43.915791Z",
     "iopub.status.idle": "2024-05-18T14:21:44.368910Z",
     "shell.execute_reply": "2024-05-18T14:21:44.369454Z",
     "shell.execute_reply.started": "2024-05-12T07:31:37.297197Z"
    },
    "papermill": {
     "duration": 1.451128,
     "end_time": "2024-05-18T14:21:44.369703",
     "exception": false,
     "start_time": "2024-05-18T14:21:42.918575",
     "status": "completed"
    },
    "tags": []
   },
   "outputs": [
    {
     "data": {
      "image/png": "[encoded data removed]",
      "text/plain": [
       "<Figure size 720x288 with 10 Axes>"
      ]
     },
     "metadata": {
      "needs_background": "light"
     },
     "output_type": "display_data"
    }
   ],
   "source": [
    "fig, axes = plt.subplots(nrows=1, ncols=len(pred_[20:30]), figsize=(10, 4))\n",
    "\n",
    "# Iterate over each image and display it\n",
    "for i, image in enumerate(pred_[20:30]):\n",
    "    axes[i].imshow(image)\n",
    "    axes[i].axis('off')  # Hide the axes\n",
    "    axes[i].set_title(f'Image {i+1}')  # Set title for each image\n",
    "\n",
    "plt.tight_layout()  # Adjust layout to make sure titles don't overla _pred\n",
    "plt.show()"
   ]
  },
  {
   "cell_type": "code",
   "execution_count": 31,
   "metadata": {
    "execution": {
     "iopub.execute_input": "2024-05-18T14:21:46.292166Z",
     "iopub.status.busy": "2024-05-18T14:21:46.290172Z",
     "iopub.status.idle": "2024-05-18T14:21:46.717951Z",
     "shell.execute_reply": "2024-05-18T14:21:46.717336Z",
     "shell.execute_reply.started": "2024-05-12T07:31:37.791286Z"
    },
    "jupyter": {
     "source_hidden": true
    },
    "papermill": {
     "duration": 1.405173,
     "end_time": "2024-05-18T14:21:46.718057",
     "exception": false,
     "start_time": "2024-05-18T14:21:45.312884",
     "status": "completed"
    },
    "tags": []
   },
   "outputs": [
    {
     "data": {
      "image/png": "[encoded data removed]",
      "text/plain": [
       "<Figure size 720x288 with 10 Axes>"
      ]
     },
     "metadata": {
      "needs_background": "light"
     },
     "output_type": "display_data"
    }
   ],
   "source": [
    "fig, axes = plt.subplots(nrows=1, ncols=len(_pred[20:30]), figsize=(10, 4))\n",
    "\n",
    "# Iterate over each image and display it\n",
    "for i, image in enumerate(_pred[20:30]):\n",
    "    axes[i].imshow(image)\n",
    "    axes[i].axis('off')  # Hide the axes\n",
    "    axes[i].set_title(f'Image {i+1}')  # Set title for each image\n",
    "\n",
    "plt.tight_layout()  # Adjust layout to make sure titles don't overla _pred\n",
    "plt.show()"
   ]
  },
  {
   "cell_type": "code",
   "execution_count": 32,
   "metadata": {
    "execution": {
     "iopub.execute_input": "2024-05-18T14:21:48.593319Z",
     "iopub.status.busy": "2024-05-18T14:21:48.591029Z",
     "iopub.status.idle": "2024-05-18T14:21:48.739467Z",
     "shell.execute_reply": "2024-05-18T14:21:48.738946Z",
     "shell.execute_reply.started": "2024-05-12T07:20:08.941440Z"
    },
    "papermill": {
     "duration": 1.089912,
     "end_time": "2024-05-18T14:21:48.739597",
     "exception": false,
     "start_time": "2024-05-18T14:21:47.649685",
     "status": "completed"
    },
    "tags": []
   },
   "outputs": [
    {
     "data": {
      "text/plain": [
       "<matplotlib.image.AxesImage at 0x7c7ea846c810>"
      ]
     },
     "execution_count": 32,
     "metadata": {},
     "output_type": "execute_result"
    },
    {
     "data": {
      "image/png": "[encoded data removed]",
      "text/plain": [
       "<Figure size 432x288 with 1 Axes>"
      ]
     },
     "metadata": {
      "needs_background": "light"
     },
     "output_type": "display_data"
    }
   ],
   "source": [
    "plt.imshow(pred_[0])"
   ]
  },
  {
   "cell_type": "code",
   "execution_count": 33,
   "metadata": {
    "execution": {
     "iopub.execute_input": "2024-05-18T14:21:50.658778Z",
     "iopub.status.busy": "2024-05-18T14:21:50.657801Z",
     "iopub.status.idle": "2024-05-18T14:21:50.801250Z",
     "shell.execute_reply": "2024-05-18T14:21:50.800714Z",
     "shell.execute_reply.started": "2024-05-12T07:20:09.504699Z"
    },
    "papermill": {
     "duration": 1.091363,
     "end_time": "2024-05-18T14:21:50.801358",
     "exception": false,
     "start_time": "2024-05-18T14:21:49.709995",
     "status": "completed"
    },
    "tags": []
   },
   "outputs": [
    {
     "data": {
      "text/plain": [
       "<matplotlib.image.AxesImage at 0x7c7ea83da1d0>"
      ]
     },
     "execution_count": 33,
     "metadata": {},
     "output_type": "execute_result"
    },
    {
     "data": {
      "image/png": "[encoded data removed]",
      "text/plain": [
       "<Figure size 432x288 with 1 Axes>"
      ]
     },
     "metadata": {
      "needs_background": "light"
     },
     "output_type": "display_data"
    }
   ],
   "source": [
    "plt.imshow(_pred[0])"
   ]
  },
  {
   "cell_type": "markdown",
   "metadata": {
    "papermill": {
     "duration": 0.936606,
     "end_time": "2024-05-18T14:21:52.668202",
     "exception": false,
     "start_time": "2024-05-18T14:21:51.731596",
     "status": "completed"
    },
    "tags": []
   },
   "source": [
    "## Masked Images"
   ]
  },
  {
   "cell_type": "code",
   "execution_count": 34,
   "metadata": {
    "execution": {
     "iopub.execute_input": "2024-05-18T14:21:54.628160Z",
     "iopub.status.busy": "2024-05-18T14:21:54.627411Z",
     "iopub.status.idle": "2024-05-18T14:21:55.285576Z",
     "shell.execute_reply": "2024-05-18T14:21:55.284947Z",
     "shell.execute_reply.started": "2024-05-12T07:35:33.568179Z"
    },
    "papermill": {
     "duration": 1.604681,
     "end_time": "2024-05-18T14:21:55.285700",
     "exception": false,
     "start_time": "2024-05-18T14:21:53.681019",
     "status": "completed"
    },
    "tags": []
   },
   "outputs": [],
   "source": [
    "masked_images=[]\n",
    "for i in range(500):\n",
    "    img=np. array(x_test[i]) \n",
    "    mask=np.array(_pred[i])\n",
    "    mask=cv.cvtColor(mask,cv.COLOR_BGR2GRAY)\n",
    "    mask=mask*255\n",
    "    thresh_, binary_mask = cv.threshold(mask, 128, 255, cv.THRESH_BINARY)\n",
    "    binary_mask = binary_mask.astype(np.int8)\n",
    "    masked_image = cv.bitwise_and(img, img, mask=binary_mask)\n",
    "    masked_images.append(masked_image)\n",
    "   \n",
    "    \n",
    "    #mask = mask.astype(np.int8)"
   ]
  },
  {
   "cell_type": "code",
   "execution_count": 35,
   "metadata": {
    "execution": {
     "iopub.execute_input": "2024-05-18T14:21:57.180860Z",
     "iopub.status.busy": "2024-05-18T14:21:57.180021Z",
     "iopub.status.idle": "2024-05-18T14:21:57.568990Z",
     "shell.execute_reply": "2024-05-18T14:21:57.568312Z",
     "shell.execute_reply.started": "2024-05-12T07:35:45.761188Z"
    },
    "papermill": {
     "duration": 1.355124,
     "end_time": "2024-05-18T14:21:57.569115",
     "exception": false,
     "start_time": "2024-05-18T14:21:56.213991",
     "status": "completed"
    },
    "tags": []
   },
   "outputs": [],
   "source": [
    "masked_images=[cv.resize(i,(224,224)) for i in masked_images ]\n",
    "masked_images=np.array(masked_images)"
   ]
  },
  {
   "cell_type": "code",
   "execution_count": 36,
   "metadata": {
    "execution": {
     "iopub.execute_input": "2024-05-18T14:21:59.519129Z",
     "iopub.status.busy": "2024-05-18T14:21:59.513979Z",
     "iopub.status.idle": "2024-05-18T14:22:00.602258Z",
     "shell.execute_reply": "2024-05-18T14:22:00.602763Z",
     "shell.execute_reply.started": "2024-05-12T07:37:03.987292Z"
    },
    "papermill": {
     "duration": 2.077108,
     "end_time": "2024-05-18T14:22:00.602910",
     "exception": false,
     "start_time": "2024-05-18T14:21:58.525802",
     "status": "completed"
    },
    "tags": []
   },
   "outputs": [
    {
     "data": {
      "image/png": "[encoded data removed]",
      "text/plain": [
       "<Figure size 1440x288 with 20 Axes>"
      ]
     },
     "metadata": {
      "needs_background": "light"
     },
     "output_type": "display_data"
    }
   ],
   "source": [
    "fig, axes = plt.subplots(nrows=1, ncols=len(masked_images[10:30]), figsize=(20, 4))\n",
    "\n",
    "# Iterate over each image and display it\n",
    "for i, image in enumerate(masked_images[10:30]):\n",
    "    axes[i].imshow(image)\n",
    "    axes[i].axis('off')  # Hide the axes\n",
    "    axes[i].set_title(f'Image {i+1}')  # Set title for each image\n",
    "\n",
    "plt.tight_layout()  # Adjust layout to make sure titles don't overla _pred\n",
    "plt.show()"
   ]
  },
  {
   "cell_type": "markdown",
   "metadata": {
    "papermill": {
     "duration": null,
     "end_time": null,
     "exception": null,
     "start_time": null,
     "status": "pending"
    },
    "tags": []
   },
   "source": [
    "## Classification Model"
   ]
  },
  {
   "cell_type": "code",
   "execution_count": null,
   "metadata": {
    "execution": {
     "iopub.execute_input": "2024-05-12T06:09:40.943830Z",
     "iopub.status.busy": "2024-05-12T06:09:40.943544Z",
     "iopub.status.idle": "2024-05-12T06:09:46.365554Z",
     "shell.execute_reply": "2024-05-12T06:09:46.364792Z",
     "shell.execute_reply.started": "2024-05-12T06:09:40.943803Z"
    },
    "papermill": {
     "duration": null,
     "end_time": null,
     "exception": null,
     "start_time": null,
     "status": "pending"
    },
    "tags": []
   },
   "outputs": [],
   "source": [
    "# Import Data Science Libraries\n",
    "import numpy as np\n",
    "import pandas as pd\n",
    "import tensorflow as tf\n",
    "from sklearn.model_selection import train_test_split\n",
    "import itertools\n",
    "import random\n",
    "\n",
    "# Import visualization libraries\n",
    "import matplotlib.pyplot as plt\n",
    "import matplotlib.cm as cm\n",
    "import cv2\n",
    "\n",
    "# Tensorflow Libraries\n",
    "from tensorflow import keras\n",
    "from tensorflow.keras import layers,models\n",
    "from keras.preprocessing.image import ImageDataGenerator\n",
    "from keras.layers import Dense, Dropout\n",
    "from tensorflow.keras.callbacks import Callback, EarlyStopping,ModelCheckpoint\n",
    "from tensorflow.keras.optimizers import Adam\n",
    "from tensorflow.keras.applications import MobileNetV2\n",
    "from tensorflow.keras import Model\n",
    "from tensorflow.keras.layers.experimental import preprocessing\n",
    "\n",
    "# System libraries\n",
    "from pathlib import Path\n",
    "import os.path\n",
    "\n",
    "# Metrics\n",
    "from sklearn.metrics import classification_report, confusion_matrix"
   ]
  },
  {
   "cell_type": "code",
   "execution_count": null,
   "metadata": {
    "execution": {
     "iopub.execute_input": "2024-05-12T06:09:46.368186Z",
     "iopub.status.busy": "2024-05-12T06:09:46.367894Z",
     "iopub.status.idle": "2024-05-12T06:09:47.849070Z",
     "shell.execute_reply": "2024-05-12T06:09:47.848305Z",
     "shell.execute_reply.started": "2024-05-12T06:09:46.368157Z"
    },
    "papermill": {
     "duration": null,
     "end_time": null,
     "exception": null,
     "start_time": null,
     "status": "pending"
    },
    "tags": []
   },
   "outputs": [],
   "source": [
    "!wget https://raw.githubusercontent.com/mrdbourke/tensorflow-deep-learning/main/extras/helper_functions.py\n",
    "\n",
    "# Import series of helper functions for our notebook\n",
    "from helper_functions import create_tensorboard_callback, plot_loss_curves, unzip_data, compare_historys, walk_through_dir, pred_and_plot"
   ]
  },
  {
   "cell_type": "code",
   "execution_count": null,
   "metadata": {
    "execution": {
     "iopub.execute_input": "2024-05-12T06:09:47.850961Z",
     "iopub.status.busy": "2024-05-12T06:09:47.850597Z",
     "iopub.status.idle": "2024-05-12T06:09:47.854588Z",
     "shell.execute_reply": "2024-05-12T06:09:47.853832Z",
     "shell.execute_reply.started": "2024-05-12T06:09:47.850927Z"
    },
    "papermill": {
     "duration": null,
     "end_time": null,
     "exception": null,
     "start_time": null,
     "status": "pending"
    },
    "tags": []
   },
   "outputs": [],
   "source": [
    "BATCH_SIZE = 32\n",
    "IMAGE_SIZE = (256, 256)"
   ]
  },
  {
   "cell_type": "code",
   "execution_count": null,
   "metadata": {
    "execution": {
     "iopub.execute_input": "2024-05-12T06:09:47.856142Z",
     "iopub.status.busy": "2024-05-12T06:09:47.855885Z",
     "iopub.status.idle": "2024-05-12T06:09:52.569274Z",
     "shell.execute_reply": "2024-05-12T06:09:52.568499Z",
     "shell.execute_reply.started": "2024-05-12T06:09:47.856118Z"
    },
    "papermill": {
     "duration": null,
     "end_time": null,
     "exception": null,
     "start_time": null,
     "status": "pending"
    },
    "tags": []
   },
   "outputs": [],
   "source": [
    "# Walk through each directory\n",
    "dataset = \"/kaggle/input/tomato-leaf-disease-dataset-segmented/train/\"\n",
    "walk_through_dir(dataset)"
   ]
  },
  {
   "cell_type": "code",
   "execution_count": null,
   "metadata": {
    "execution": {
     "iopub.execute_input": "2024-05-12T06:09:52.572796Z",
     "iopub.status.busy": "2024-05-12T06:09:52.572507Z",
     "iopub.status.idle": "2024-05-12T06:09:54.184268Z",
     "shell.execute_reply": "2024-05-12T06:09:54.183435Z",
     "shell.execute_reply.started": "2024-05-12T06:09:52.572768Z"
    },
    "papermill": {
     "duration": null,
     "end_time": null,
     "exception": null,
     "start_time": null,
     "status": "pending"
    },
    "tags": []
   },
   "outputs": [],
   "source": [
    "image_dir = Path(dataset)\n",
    "\n",
    "# Get filepaths and labels\n",
    "filepaths = list(image_dir.glob(r'**/*.JPG')) + list(image_dir.glob(r'**/*.jpg')) + list(image_dir.glob(r'**/*.png')) + list(image_dir.glob(r'**/*.png'))\n",
    "\n",
    "labels = list(map(lambda x: os.path.split(os.path.split(x)[0])[1], filepaths))\n",
    "\n",
    "filepaths = pd.Series(filepaths, name='Filepath').astype(str)\n",
    "labels = pd.Series(labels, name='Label')\n",
    "\n",
    "# Concatenate filepaths and labels\n",
    "image_df = pd.concat([filepaths, labels], axis=1)"
   ]
  },
  {
   "cell_type": "code",
   "execution_count": null,
   "metadata": {
    "execution": {
     "iopub.execute_input": "2024-05-12T06:09:54.187145Z",
     "iopub.status.busy": "2024-05-12T06:09:54.186851Z",
     "iopub.status.idle": "2024-05-12T06:09:55.091322Z",
     "shell.execute_reply": "2024-05-12T06:09:55.090470Z",
     "shell.execute_reply.started": "2024-05-12T06:09:54.187116Z"
    },
    "papermill": {
     "duration": null,
     "end_time": null,
     "exception": null,
     "start_time": null,
     "status": "pending"
    },
    "tags": []
   },
   "outputs": [],
   "source": [
    "# Display 9 picture of the dataset with their labels\n",
    "random_index = np.random.randint(0, len(image_df), 16)\n",
    "fig, axes = plt.subplots(nrows=4, ncols=4, figsize=(10, 10),\n",
    "                        subplot_kw={'xticks': [], 'yticks': []})\n",
    "\n",
    "for i, ax in enumerate(axes.flat):\n",
    "    ax.imshow(plt.imread(image_df.Filepath[random_index[i]]))\n",
    "    ax.set_title(image_df.Label[random_index[i]])\n",
    "plt.tight_layout()\n",
    "plt.show()"
   ]
  },
  {
   "cell_type": "code",
   "execution_count": null,
   "metadata": {
    "execution": {
     "iopub.execute_input": "2024-05-12T06:09:55.092913Z",
     "iopub.status.busy": "2024-05-12T06:09:55.092622Z",
     "iopub.status.idle": "2024-05-12T06:09:55.102036Z",
     "shell.execute_reply": "2024-05-12T06:09:55.101301Z",
     "shell.execute_reply.started": "2024-05-12T06:09:55.092886Z"
    },
    "papermill": {
     "duration": null,
     "end_time": null,
     "exception": null,
     "start_time": null,
     "status": "pending"
    },
    "tags": []
   },
   "outputs": [],
   "source": [
    "# Separate in train and test data\n",
    "train_df, test_df = train_test_split(image_df, test_size=0.3, shuffle=True, random_state=42)"
   ]
  },
  {
   "cell_type": "code",
   "execution_count": null,
   "metadata": {
    "execution": {
     "iopub.execute_input": "2024-05-12T06:09:55.103721Z",
     "iopub.status.busy": "2024-05-12T06:09:55.103341Z",
     "iopub.status.idle": "2024-05-12T06:09:55.112036Z",
     "shell.execute_reply": "2024-05-12T06:09:55.111340Z",
     "shell.execute_reply.started": "2024-05-12T06:09:55.103684Z"
    },
    "papermill": {
     "duration": null,
     "end_time": null,
     "exception": null,
     "start_time": null,
     "status": "pending"
    },
    "tags": []
   },
   "outputs": [],
   "source": [
    "len(test_df)"
   ]
  },
  {
   "cell_type": "code",
   "execution_count": null,
   "metadata": {
    "execution": {
     "iopub.execute_input": "2024-05-12T06:09:55.113519Z",
     "iopub.status.busy": "2024-05-12T06:09:55.113186Z",
     "iopub.status.idle": "2024-05-12T06:09:55.123790Z",
     "shell.execute_reply": "2024-05-12T06:09:55.123134Z",
     "shell.execute_reply.started": "2024-05-12T06:09:55.113491Z"
    },
    "papermill": {
     "duration": null,
     "end_time": null,
     "exception": null,
     "start_time": null,
     "status": "pending"
    },
    "tags": []
   },
   "outputs": [],
   "source": [
    "val_df, test_df = train_test_split(test_df, test_size=0.3, shuffle=True, random_state=1)"
   ]
  },
  {
   "cell_type": "code",
   "execution_count": null,
   "metadata": {
    "execution": {
     "iopub.execute_input": "2024-05-12T06:09:55.125419Z",
     "iopub.status.busy": "2024-05-12T06:09:55.124961Z",
     "iopub.status.idle": "2024-05-12T06:09:55.134073Z",
     "shell.execute_reply": "2024-05-12T06:09:55.133337Z",
     "shell.execute_reply.started": "2024-05-12T06:09:55.125389Z"
    },
    "papermill": {
     "duration": null,
     "end_time": null,
     "exception": null,
     "start_time": null,
     "status": "pending"
    },
    "tags": []
   },
   "outputs": [],
   "source": [
    "from tensorflow.keras.applications.vgg16 import preprocess_input\n"
   ]
  },
  {
   "cell_type": "code",
   "execution_count": null,
   "metadata": {
    "execution": {
     "iopub.execute_input": "2024-05-12T06:09:55.135471Z",
     "iopub.status.busy": "2024-05-12T06:09:55.135184Z",
     "iopub.status.idle": "2024-05-12T06:09:55.144213Z",
     "shell.execute_reply": "2024-05-12T06:09:55.143596Z",
     "shell.execute_reply.started": "2024-05-12T06:09:55.135446Z"
    },
    "papermill": {
     "duration": null,
     "end_time": null,
     "exception": null,
     "start_time": null,
     "status": "pending"
    },
    "tags": []
   },
   "outputs": [],
   "source": [
    "###\n",
    "train_generator = ImageDataGenerator(\n",
    "    preprocessing_function=preprocess_input\n",
    "    #validation_split=0.2\n",
    ")\n",
    "val_generator=ImageDataGenerator(\n",
    "    preprocessing_function=preprocess_input\n",
    "    #validation_split=0.2\n",
    ")\n",
    "\n",
    "test_generator = ImageDataGenerator(\n",
    "    preprocessing_function=preprocess_input\n",
    ")"
   ]
  },
  {
   "cell_type": "code",
   "execution_count": null,
   "metadata": {
    "execution": {
     "iopub.execute_input": "2024-05-12T06:09:55.145800Z",
     "iopub.status.busy": "2024-05-12T06:09:55.145482Z",
     "iopub.status.idle": "2024-05-12T06:09:55.154352Z",
     "shell.execute_reply": "2024-05-12T06:09:55.153588Z",
     "shell.execute_reply.started": "2024-05-12T06:09:55.145773Z"
    },
    "papermill": {
     "duration": null,
     "end_time": null,
     "exception": null,
     "start_time": null,
     "status": "pending"
    },
    "tags": []
   },
   "outputs": [],
   "source": [
    "train_datagen_vgg = ImageDataGenerator(rescale=1./255,\n",
    "                                            shear_range = 0.2,\n",
    "                                            zoom_range = 0.2,\n",
    "                                            horizontal_flip = True,\n",
    "                                            #verical_flip = True,##\n",
    "                                            rotation_range= 7,\n",
    "                                             \n",
    "                                            )\n",
    "\n",
    "test_datagen_vgg = ImageDataGenerator(rescale=1./255)"
   ]
  },
  {
   "cell_type": "code",
   "execution_count": null,
   "metadata": {
    "execution": {
     "iopub.status.busy": "2024-05-12T07:05:59.081441Z",
     "iopub.status.idle": "2024-05-12T07:05:59.082096Z"
    },
    "papermill": {
     "duration": null,
     "end_time": null,
     "exception": null,
     "start_time": null,
     "status": "pending"
    },
    "tags": []
   },
   "outputs": [],
   "source": [
    "# Split the data into three categories.\n",
    "train_images = train_datagen_vgg.flow_from_dataframe(\n",
    "    dataframe=train_df,\n",
    "    x_col='Filepath',\n",
    "    y_col='Label',\n",
    "    target_size=(224, 224),\n",
    "    color_mode='rgb',\n",
    "    class_mode='categorical',\n",
    "    batch_size=32,\n",
    "    shuffle=True,\n",
    "    seed=42,\n",
    "    #subset='training'\n",
    ")\n",
    "\n",
    "val_images = test_datagen_vgg.flow_from_dataframe(\n",
    "    dataframe=val_df,\n",
    "    x_col='Filepath',\n",
    "    y_col='Label',\n",
    "    target_size=(224, 224),\n",
    "    color_mode='rgb',\n",
    "    class_mode='categorical',\n",
    "    batch_size=32,\n",
    "    shuffle=True,\n",
    "    seed=42,\n",
    "   # subset='validation'\n",
    ")\n",
    "\n",
    "test_images=test_datagen_vgg.flow_from_dataframe(\n",
    "    dataframe=test_df,\n",
    "    x_col='Filepath',\n",
    "    y_col='Label',\n",
    "    target_size=(224, 224),\n",
    "    color_mode='rgb',\n",
    "    class_mode='categorical',\n",
    "    batch_size=32,\n",
    "    #shuffle=True,\n",
    "    seed=42,\n",
    "    #subset='validation'\n",
    ")"
   ]
  },
  {
   "cell_type": "code",
   "execution_count": null,
   "metadata": {
    "execution": {
     "iopub.execute_input": "2024-05-12T06:09:58.641179Z",
     "iopub.status.busy": "2024-05-12T06:09:58.640895Z",
     "iopub.status.idle": "2024-05-12T06:10:04.329032Z",
     "shell.execute_reply": "2024-05-12T06:10:04.328319Z",
     "shell.execute_reply.started": "2024-05-12T06:09:58.641153Z"
    },
    "papermill": {
     "duration": null,
     "end_time": null,
     "exception": null,
     "start_time": null,
     "status": "pending"
    },
    "tags": []
   },
   "outputs": [],
   "source": [
    "# Load the pretained model\n",
    "pretrained_model = tf.keras.applications.VGG16(\n",
    "    input_shape=(224, 224, 3),\n",
    "    include_top=False,\n",
    "    weights='imagenet',\n",
    "    pooling='avg'\n",
    ")\n",
    "\n",
    "pretrained_model.trainable = False"
   ]
  },
  {
   "cell_type": "code",
   "execution_count": null,
   "metadata": {
    "execution": {
     "iopub.execute_input": "2024-05-12T06:10:04.330456Z",
     "iopub.status.busy": "2024-05-12T06:10:04.330152Z",
     "iopub.status.idle": "2024-05-12T06:10:04.358701Z",
     "shell.execute_reply": "2024-05-12T06:10:04.357876Z",
     "shell.execute_reply.started": "2024-05-12T06:10:04.330420Z"
    },
    "papermill": {
     "duration": null,
     "end_time": null,
     "exception": null,
     "start_time": null,
     "status": "pending"
    },
    "tags": []
   },
   "outputs": [],
   "source": [
    "# Resize Layer\n",
    "resize_and_rescale = tf.keras.Sequential([\n",
    "  layers.experimental.preprocessing.Resizing(224,224),\n",
    "  layers.experimental.preprocessing.Rescaling(1./255),\n",
    "])\n",
    "\n",
    "# Setup data augmentation\n",
    "\n",
    "data_augmentation = keras.Sequential([\n",
    "  preprocessing.RandomFlip(\"horizontal_and_vertical\"),\n",
    "  preprocessing.RandomRotation(0.2),\n",
    "  preprocessing.RandomZoom(0.2),\n",
    "  preprocessing.RandomHeight(0.2),\n",
    "  preprocessing.RandomWidth(0.2),                       \n",
    "], name=\"data_augmentation\")\n"
   ]
  },
  {
   "cell_type": "code",
   "execution_count": null,
   "metadata": {
    "execution": {
     "iopub.execute_input": "2024-05-12T06:10:04.360534Z",
     "iopub.status.busy": "2024-05-12T06:10:04.360144Z",
     "iopub.status.idle": "2024-05-12T06:10:04.368248Z",
     "shell.execute_reply": "2024-05-12T06:10:04.367312Z",
     "shell.execute_reply.started": "2024-05-12T06:10:04.360497Z"
    },
    "papermill": {
     "duration": null,
     "end_time": null,
     "exception": null,
     "start_time": null,
     "status": "pending"
    },
    "tags": []
   },
   "outputs": [],
   "source": [
    "from tensorflow.keras.layers import Input, Lambda, Dense, Flatten\n",
    "from tensorflow.keras.models import Model\n",
    "from tensorflow.keras.applications.inception_v3 import InceptionV3\n",
    "from tensorflow.keras.applications import VGG16\n",
    "from tensorflow.keras.applications import MobileNetV2\n",
    "from tensorflow.keras.applications import EfficientNetB3\n",
    "from tensorflow.keras.preprocessing import image\n",
    "from tensorflow.keras.preprocessing.image import ImageDataGenerator\n",
    "from tensorflow.keras.models import Sequential"
   ]
  },
  {
   "cell_type": "code",
   "execution_count": null,
   "metadata": {
    "execution": {
     "iopub.execute_input": "2024-05-12T06:10:04.369544Z",
     "iopub.status.busy": "2024-05-12T06:10:04.369275Z",
     "iopub.status.idle": "2024-05-12T06:10:04.381764Z",
     "shell.execute_reply": "2024-05-12T06:10:04.380994Z",
     "shell.execute_reply.started": "2024-05-12T06:10:04.369508Z"
    },
    "papermill": {
     "duration": null,
     "end_time": null,
     "exception": null,
     "start_time": null,
     "status": "pending"
    },
    "tags": []
   },
   "outputs": [],
   "source": [
    "SIZE = [224, 224]"
   ]
  },
  {
   "cell_type": "code",
   "execution_count": null,
   "metadata": {
    "execution": {
     "iopub.execute_input": "2024-05-12T06:10:04.383149Z",
     "iopub.status.busy": "2024-05-12T06:10:04.382886Z",
     "iopub.status.idle": "2024-05-12T06:10:04.673896Z",
     "shell.execute_reply": "2024-05-12T06:10:04.673161Z",
     "shell.execute_reply.started": "2024-05-12T06:10:04.383124Z"
    },
    "papermill": {
     "duration": null,
     "end_time": null,
     "exception": null,
     "start_time": null,
     "status": "pending"
    },
    "tags": []
   },
   "outputs": [],
   "source": [
    "vgg = VGG16(input_shape=SIZE + [3], weights=\"imagenet\", include_top=False)"
   ]
  },
  {
   "cell_type": "code",
   "execution_count": null,
   "metadata": {
    "execution": {
     "iopub.execute_input": "2024-05-12T06:10:04.675207Z",
     "iopub.status.busy": "2024-05-12T06:10:04.674929Z",
     "iopub.status.idle": "2024-05-12T06:10:04.679723Z",
     "shell.execute_reply": "2024-05-12T06:10:04.678839Z",
     "shell.execute_reply.started": "2024-05-12T06:10:04.675180Z"
    },
    "papermill": {
     "duration": null,
     "end_time": null,
     "exception": null,
     "start_time": null,
     "status": "pending"
    },
    "tags": []
   },
   "outputs": [],
   "source": [
    "for layer in vgg.layers:\n",
    "    layer.trainable = False"
   ]
  },
  {
   "cell_type": "code",
   "execution_count": null,
   "metadata": {
    "execution": {
     "iopub.execute_input": "2024-05-12T06:10:04.681445Z",
     "iopub.status.busy": "2024-05-12T06:10:04.681065Z",
     "iopub.status.idle": "2024-05-12T06:10:04.692933Z",
     "shell.execute_reply": "2024-05-12T06:10:04.692221Z",
     "shell.execute_reply.started": "2024-05-12T06:10:04.681407Z"
    },
    "papermill": {
     "duration": null,
     "end_time": null,
     "exception": null,
     "start_time": null,
     "status": "pending"
    },
    "tags": []
   },
   "outputs": [],
   "source": [
    "\n",
    "x = Flatten()(vgg.output)"
   ]
  },
  {
   "cell_type": "code",
   "execution_count": null,
   "metadata": {
    "execution": {
     "iopub.execute_input": "2024-05-12T06:10:04.694136Z",
     "iopub.status.busy": "2024-05-12T06:10:04.693873Z",
     "iopub.status.idle": "2024-05-12T06:10:04.702013Z",
     "shell.execute_reply": "2024-05-12T06:10:04.701293Z",
     "shell.execute_reply.started": "2024-05-12T06:10:04.694110Z"
    },
    "papermill": {
     "duration": null,
     "end_time": null,
     "exception": null,
     "start_time": null,
     "status": "pending"
    },
    "tags": []
   },
   "outputs": [],
   "source": [
    "num_classes=10"
   ]
  },
  {
   "cell_type": "code",
   "execution_count": null,
   "metadata": {
    "execution": {
     "iopub.execute_input": "2024-05-12T06:10:04.703515Z",
     "iopub.status.busy": "2024-05-12T06:10:04.703121Z",
     "iopub.status.idle": "2024-05-12T06:10:04.728110Z",
     "shell.execute_reply": "2024-05-12T06:10:04.727292Z",
     "shell.execute_reply.started": "2024-05-12T06:10:04.703477Z"
    },
    "papermill": {
     "duration": null,
     "end_time": null,
     "exception": null,
     "start_time": null,
     "status": "pending"
    },
    "tags": []
   },
   "outputs": [],
   "source": [
    "prediction = Dense(num_classes, activation=\"softmax\")(x)\n",
    "\n",
    "vgg_model = Model(inputs=vgg.input, outputs=prediction)"
   ]
  },
  {
   "cell_type": "code",
   "execution_count": null,
   "metadata": {
    "execution": {
     "iopub.execute_input": "2024-05-12T06:10:04.729331Z",
     "iopub.status.busy": "2024-05-12T06:10:04.729062Z",
     "iopub.status.idle": "2024-05-12T06:10:04.743754Z",
     "shell.execute_reply": "2024-05-12T06:10:04.742909Z",
     "shell.execute_reply.started": "2024-05-12T06:10:04.729305Z"
    },
    "papermill": {
     "duration": null,
     "end_time": null,
     "exception": null,
     "start_time": null,
     "status": "pending"
    },
    "tags": []
   },
   "outputs": [],
   "source": [
    "vgg_model.compile(loss=\"categorical_crossentropy\", metrics=[\"accuracy\"], optimizer=\"adam\")"
   ]
  },
  {
   "cell_type": "code",
   "execution_count": null,
   "metadata": {
    "execution": {
     "iopub.execute_input": "2024-05-12T06:10:04.745109Z",
     "iopub.status.busy": "2024-05-12T06:10:04.744808Z",
     "iopub.status.idle": "2024-05-12T06:10:04.749931Z",
     "shell.execute_reply": "2024-05-12T06:10:04.749033Z",
     "shell.execute_reply.started": "2024-05-12T06:10:04.745083Z"
    },
    "papermill": {
     "duration": null,
     "end_time": null,
     "exception": null,
     "start_time": null,
     "status": "pending"
    },
    "tags": []
   },
   "outputs": [],
   "source": [
    "#mobile  vgg  inception  res"
   ]
  },
  {
   "cell_type": "code",
   "execution_count": null,
   "metadata": {
    "execution": {
     "iopub.execute_input": "2024-05-12T06:10:04.751288Z",
     "iopub.status.busy": "2024-05-12T06:10:04.751005Z",
     "iopub.status.idle": "2024-05-12T06:38:24.793141Z",
     "shell.execute_reply": "2024-05-12T06:38:24.792215Z",
     "shell.execute_reply.started": "2024-05-12T06:10:04.751262Z"
    },
    "papermill": {
     "duration": null,
     "end_time": null,
     "exception": null,
     "start_time": null,
     "status": "pending"
    },
    "tags": []
   },
   "outputs": [],
   "source": [
    "history = vgg_model.fit(\n",
    "    train_images,\n",
    "    steps_per_epoch=len(train_images),\n",
    "    validation_data=val_images,\n",
    "    validation_steps=len(val_images),\n",
    "    epochs=19,\n",
    "\n",
    ")"
   ]
  },
  {
   "cell_type": "markdown",
   "metadata": {
    "papermill": {
     "duration": null,
     "end_time": null,
     "exception": null,
     "start_time": null,
     "status": "pending"
    },
    "tags": []
   },
   "source": [
    "## save model"
   ]
  },
  {
   "cell_type": "code",
   "execution_count": null,
   "metadata": {
    "execution": {
     "iopub.execute_input": "2024-05-12T06:38:45.562722Z",
     "iopub.status.busy": "2024-05-12T06:38:45.562380Z",
     "iopub.status.idle": "2024-05-12T06:38:45.732018Z",
     "shell.execute_reply": "2024-05-12T06:38:45.731083Z",
     "shell.execute_reply.started": "2024-05-12T06:38:45.562693Z"
    },
    "papermill": {
     "duration": null,
     "end_time": null,
     "exception": null,
     "start_time": null,
     "status": "pending"
    },
    "tags": []
   },
   "outputs": [],
   "source": [
    "vgg_model.save('classification_model.h5')"
   ]
  },
  {
   "cell_type": "code",
   "execution_count": null,
   "metadata": {
    "execution": {
     "iopub.execute_input": "2024-05-12T07:06:08.244084Z",
     "iopub.status.busy": "2024-05-12T07:06:08.243734Z",
     "iopub.status.idle": "2024-05-12T07:06:11.229848Z",
     "shell.execute_reply": "2024-05-12T07:06:11.229064Z",
     "shell.execute_reply.started": "2024-05-12T07:06:08.244055Z"
    },
    "papermill": {
     "duration": null,
     "end_time": null,
     "exception": null,
     "start_time": null,
     "status": "pending"
    },
    "tags": []
   },
   "outputs": [],
   "source": [
    "\n",
    "vgg_model.evaluate(test_images)"
   ]
  },
  {
   "cell_type": "code",
   "execution_count": null,
   "metadata": {
    "execution": {
     "iopub.execute_input": "2024-05-12T07:06:12.689989Z",
     "iopub.status.busy": "2024-05-12T07:06:12.689648Z",
     "iopub.status.idle": "2024-05-12T07:06:15.011039Z",
     "shell.execute_reply": "2024-05-12T07:06:15.010216Z",
     "shell.execute_reply.started": "2024-05-12T07:06:12.689959Z"
    },
    "papermill": {
     "duration": null,
     "end_time": null,
     "exception": null,
     "start_time": null,
     "status": "pending"
    },
    "tags": []
   },
   "outputs": [],
   "source": [
    "pred1 = vgg_model.predict(test_images)\n",
    "pred1 = np.argmax(pred1,axis=1)"
   ]
  },
  {
   "cell_type": "code",
   "execution_count": null,
   "metadata": {
    "execution": {
     "iopub.execute_input": "2024-05-12T06:46:57.855725Z",
     "iopub.status.busy": "2024-05-12T06:46:57.855361Z",
     "iopub.status.idle": "2024-05-12T06:46:57.859629Z",
     "shell.execute_reply": "2024-05-12T06:46:57.858539Z",
     "shell.execute_reply.started": "2024-05-12T06:46:57.855696Z"
    },
    "papermill": {
     "duration": null,
     "end_time": null,
     "exception": null,
     "start_time": null,
     "status": "pending"
    },
    "tags": []
   },
   "outputs": [],
   "source": [
    "#masked_image_train=np.array([cv2.resize(i,(224,224)) for i in masked_image_train])"
   ]
  },
  {
   "cell_type": "code",
   "execution_count": null,
   "metadata": {
    "execution": {
     "iopub.execute_input": "2024-05-12T07:06:17.414900Z",
     "iopub.status.busy": "2024-05-12T07:06:17.414435Z",
     "iopub.status.idle": "2024-05-12T07:06:20.167567Z",
     "shell.execute_reply": "2024-05-12T07:06:20.166622Z",
     "shell.execute_reply.started": "2024-05-12T07:06:17.414862Z"
    },
    "papermill": {
     "duration": null,
     "end_time": null,
     "exception": null,
     "start_time": null,
     "status": "pending"
    },
    "tags": []
   },
   "outputs": [],
   "source": [
    "import tensorflow as tf\n",
    "\n",
    "\n",
    "loaded_model_class = tf.keras.models.load_model('classification_model.h5')\n",
    "pred2=loaded_model_class.predict(test_images)\n",
    "pred2 = np.argmax(pred2,axis=1)"
   ]
  },
  {
   "cell_type": "code",
   "execution_count": null,
   "metadata": {
    "execution": {
     "iopub.execute_input": "2024-05-12T07:06:20.169598Z",
     "iopub.status.busy": "2024-05-12T07:06:20.169295Z",
     "iopub.status.idle": "2024-05-12T07:06:20.175343Z",
     "shell.execute_reply": "2024-05-12T07:06:20.174537Z",
     "shell.execute_reply.started": "2024-05-12T07:06:20.169567Z"
    },
    "papermill": {
     "duration": null,
     "end_time": null,
     "exception": null,
     "start_time": null,
     "status": "pending"
    },
    "tags": []
   },
   "outputs": [],
   "source": [
    "np.sum((pred1==pred2).astype('int'))"
   ]
  },
  {
   "cell_type": "code",
   "execution_count": null,
   "metadata": {
    "papermill": {
     "duration": null,
     "end_time": null,
     "exception": null,
     "start_time": null,
     "status": "pending"
    },
    "tags": []
   },
   "outputs": [],
   "source": []
  }
 ],
 "metadata": {
  "kaggle": {
   "accelerator": "gpu",
   "dataSources": [
    {
     "datasetId": 259770,
     "sourceId": 544347,
     "sourceType": "datasetVersion"
    },
    {
     "datasetId": 619181,
     "sourceId": 1105687,
     "sourceType": "datasetVersion"
    },
    {
     "datasetId": 4006736,
     "sourceId": 6973251,
     "sourceType": "datasetVersion"
    }
   ],
   "dockerImageVersionId": 30009,
   "isGpuEnabled": true,
   "isInternetEnabled": true,
   "language": "python",
   "sourceType": "notebook"
  },
  "kernelspec": {
   "display_name": "Python 3 (ipykernel)",
   "language": "python",
   "name": "python3"
  },
  "language_info": {
   "codemirror_mode": {
    "name": "ipython",
    "version": 3
   },
   "file_extension": ".py",
   "mimetype": "text/x-python",
   "name": "python",
   "nbconvert_exporter": "python",
   "pygments_lexer": "ipython3",
   "version": "3.9.19"
  },
  "papermill": {
   "duration": 510.284745,
   "end_time": "2024-05-18T14:22:06.030060",
   "environment_variables": {},
   "exception": true,
   "input_path": "__notebook__.ipynb",
   "output_path": "__notebook__.ipynb",
   "parameters": {},
   "start_time": "2024-05-18T14:13:35.745315",
   "version": "2.1.0"
  }
 },
 "nbformat": 4,
 "nbformat_minor": 4
}
