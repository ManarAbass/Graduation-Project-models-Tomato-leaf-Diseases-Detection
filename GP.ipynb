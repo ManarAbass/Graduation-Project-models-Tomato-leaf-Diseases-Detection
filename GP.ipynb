{
 "cells": [
  {
   "cell_type": "markdown",
   "metadata": {
    "id": "WfKax3Xgd6ri"
   },
   "source": [
    "## YOLO Detection\n"
   ]
  },
  {
   "cell_type": "code",
   "execution_count": null,
   "metadata": {
    "colab": {
     "base_uri": "https://localhost:8080/"
    },
    "id": "IsAb8y6zse30",
    "outputId": "b40a2309-9197-4458-83ff-f31e9412b4cf"
   },
   "outputs": [
    {
     "name": "stdout",
     "output_type": "stream",
     "text": [
      "Requirement already satisfied: shapely in /usr/local/lib/python3.10/dist-packages (2.0.4)\n",
      "Requirement already satisfied: numpy<3,>=1.14 in /usr/local/lib/python3.10/dist-packages (from shapely) (1.25.2)\n"
     ]
    }
   ],
   "source": [
    "pip install --upgrade shapely"
   ]
  },
  {
   "cell_type": "code",
   "execution_count": 1,
   "metadata": {
    "colab": {
     "base_uri": "https://localhost:8080/"
    },
    "id": "MGQZkfOXslA9",
    "outputId": "242eac9b-5604-4216-c529-a993e0edcf04"
   },
   "outputs": [
    {
     "name": "stdout",
     "output_type": "stream",
     "text": [
      "Collecting ultralyticsplus==0.0.28\n",
      "  Downloading ultralyticsplus-0.0.28-py3-none-any.whl (11 kB)\n",
      "Collecting ultralytics==8.0.43\n",
      "  Downloading ultralytics-8.0.43-py3-none-any.whl (299 kB)\n",
      "\u001b[2K     \u001b[90m━━━━━━━━━━━━━━━━━━━━━━━━━━━━━━━━━━━━━━━━\u001b[0m \u001b[32m299.6/299.6 kB\u001b[0m \u001b[31m1.7 MB/s\u001b[0m eta \u001b[36m0:00:00\u001b[0m\n",
      "\u001b[?25hRequirement already satisfied: huggingface-hub>=0.12.0 in /usr/local/lib/python3.10/dist-packages (from ultralyticsplus==0.0.28) (0.23.4)\n",
      "Collecting fire (from ultralyticsplus==0.0.28)\n",
      "  Downloading fire-0.6.0.tar.gz (88 kB)\n",
      "\u001b[2K     \u001b[90m━━━━━━━━━━━━━━━━━━━━━━━━━━━━━━━━━━━━━━━━\u001b[0m \u001b[32m88.4/88.4 kB\u001b[0m \u001b[31m9.0 MB/s\u001b[0m eta \u001b[36m0:00:00\u001b[0m\n",
      "\u001b[?25h  Preparing metadata (setup.py) ... \u001b[?25l\u001b[?25hdone\n",
      "Collecting sahi<0.12.0,>=0.11.11 (from ultralyticsplus==0.0.28)\n",
      "  Downloading sahi-0.11.16-py3-none-any.whl (112 kB)\n",
      "\u001b[2K     \u001b[90m━━━━━━━━━━━━━━━━━━━━━━━━━━━━━━━━━━━━━━━━\u001b[0m \u001b[32m112.6/112.6 kB\u001b[0m \u001b[31m12.3 MB/s\u001b[0m eta \u001b[36m0:00:00\u001b[0m\n",
      "\u001b[?25hRequirement already satisfied: pandas in /usr/local/lib/python3.10/dist-packages (from ultralyticsplus==0.0.28) (2.0.3)\n",
      "Requirement already satisfied: matplotlib>=3.2.2 in /usr/local/lib/python3.10/dist-packages (from ultralytics==8.0.43) (3.7.1)\n",
      "Requirement already satisfied: numpy>=1.18.5 in /usr/local/lib/python3.10/dist-packages (from ultralytics==8.0.43) (1.25.2)\n",
      "Requirement already satisfied: opencv-python>=4.6.0 in /usr/local/lib/python3.10/dist-packages (from ultralytics==8.0.43) (4.8.0.76)\n",
      "Requirement already satisfied: Pillow>=7.1.2 in /usr/local/lib/python3.10/dist-packages (from ultralytics==8.0.43) (9.4.0)\n",
      "Requirement already satisfied: PyYAML>=5.3.1 in /usr/local/lib/python3.10/dist-packages (from ultralytics==8.0.43) (6.0.1)\n",
      "Requirement already satisfied: requests>=2.23.0 in /usr/local/lib/python3.10/dist-packages (from ultralytics==8.0.43) (2.31.0)\n",
      "Requirement already satisfied: scipy>=1.4.1 in /usr/local/lib/python3.10/dist-packages (from ultralytics==8.0.43) (1.11.4)\n",
      "Requirement already satisfied: torch>=1.7.0 in /usr/local/lib/python3.10/dist-packages (from ultralytics==8.0.43) (2.3.0+cu121)\n",
      "Requirement already satisfied: torchvision>=0.8.1 in /usr/local/lib/python3.10/dist-packages (from ultralytics==8.0.43) (0.18.0+cu121)\n",
      "Requirement already satisfied: tqdm>=4.64.0 in /usr/local/lib/python3.10/dist-packages (from ultralytics==8.0.43) (4.66.4)\n",
      "Requirement already satisfied: tensorboard>=2.4.1 in /usr/local/lib/python3.10/dist-packages (from ultralytics==8.0.43) (2.15.2)\n",
      "Requirement already satisfied: seaborn>=0.11.0 in /usr/local/lib/python3.10/dist-packages (from ultralytics==8.0.43) (0.13.1)\n",
      "Requirement already satisfied: psutil in /usr/local/lib/python3.10/dist-packages (from ultralytics==8.0.43) (5.9.5)\n",
      "Collecting thop>=0.1.1 (from ultralytics==8.0.43)\n",
      "  Downloading thop-0.1.1.post2209072238-py3-none-any.whl (15 kB)\n",
      "Requirement already satisfied: wheel>=0.38.0 in /usr/local/lib/python3.10/dist-packages (from ultralytics==8.0.43) (0.43.0)\n",
      "Collecting sentry-sdk (from ultralytics==8.0.43)\n",
      "  Downloading sentry_sdk-2.6.0-py2.py3-none-any.whl (296 kB)\n",
      "\u001b[2K     \u001b[90m━━━━━━━━━━━━━━━━━━━━━━━━━━━━━━━━━━━━━━━━\u001b[0m \u001b[32m296.1/296.1 kB\u001b[0m \u001b[31m12.7 MB/s\u001b[0m eta \u001b[36m0:00:00\u001b[0m\n",
      "\u001b[?25hRequirement already satisfied: filelock in /usr/local/lib/python3.10/dist-packages (from huggingface-hub>=0.12.0->ultralyticsplus==0.0.28) (3.15.1)\n",
      "Requirement already satisfied: fsspec>=2023.5.0 in /usr/local/lib/python3.10/dist-packages (from huggingface-hub>=0.12.0->ultralyticsplus==0.0.28) (2023.6.0)\n",
      "Requirement already satisfied: packaging>=20.9 in /usr/local/lib/python3.10/dist-packages (from huggingface-hub>=0.12.0->ultralyticsplus==0.0.28) (24.1)\n",
      "Requirement already satisfied: typing-extensions>=3.7.4.3 in /usr/local/lib/python3.10/dist-packages (from huggingface-hub>=0.12.0->ultralyticsplus==0.0.28) (4.12.2)\n",
      "Requirement already satisfied: contourpy>=1.0.1 in /usr/local/lib/python3.10/dist-packages (from matplotlib>=3.2.2->ultralytics==8.0.43) (1.2.1)\n",
      "Requirement already satisfied: cycler>=0.10 in /usr/local/lib/python3.10/dist-packages (from matplotlib>=3.2.2->ultralytics==8.0.43) (0.12.1)\n",
      "Requirement already satisfied: fonttools>=4.22.0 in /usr/local/lib/python3.10/dist-packages (from matplotlib>=3.2.2->ultralytics==8.0.43) (4.53.0)\n",
      "Requirement already satisfied: kiwisolver>=1.0.1 in /usr/local/lib/python3.10/dist-packages (from matplotlib>=3.2.2->ultralytics==8.0.43) (1.4.5)\n",
      "Requirement already satisfied: pyparsing>=2.3.1 in /usr/local/lib/python3.10/dist-packages (from matplotlib>=3.2.2->ultralytics==8.0.43) (3.1.2)\n",
      "Requirement already satisfied: python-dateutil>=2.7 in /usr/local/lib/python3.10/dist-packages (from matplotlib>=3.2.2->ultralytics==8.0.43) (2.8.2)\n",
      "Requirement already satisfied: pytz>=2020.1 in /usr/local/lib/python3.10/dist-packages (from pandas->ultralyticsplus==0.0.28) (2023.4)\n",
      "Requirement already satisfied: tzdata>=2022.1 in /usr/local/lib/python3.10/dist-packages (from pandas->ultralyticsplus==0.0.28) (2024.1)\n",
      "Requirement already satisfied: charset-normalizer<4,>=2 in /usr/local/lib/python3.10/dist-packages (from requests>=2.23.0->ultralytics==8.0.43) (3.3.2)\n",
      "Requirement already satisfied: idna<4,>=2.5 in /usr/local/lib/python3.10/dist-packages (from requests>=2.23.0->ultralytics==8.0.43) (3.7)\n",
      "Requirement already satisfied: urllib3<3,>=1.21.1 in /usr/local/lib/python3.10/dist-packages (from requests>=2.23.0->ultralytics==8.0.43) (2.0.7)\n",
      "Requirement already satisfied: certifi>=2017.4.17 in /usr/local/lib/python3.10/dist-packages (from requests>=2.23.0->ultralytics==8.0.43) (2024.6.2)\n",
      "Requirement already satisfied: shapely>=1.8.0 in /usr/local/lib/python3.10/dist-packages (from sahi<0.12.0,>=0.11.11->ultralyticsplus==0.0.28) (2.0.4)\n",
      "Collecting pybboxes==0.1.6 (from sahi<0.12.0,>=0.11.11->ultralyticsplus==0.0.28)\n",
      "  Downloading pybboxes-0.1.6-py3-none-any.whl (24 kB)\n",
      "Collecting terminaltables (from sahi<0.12.0,>=0.11.11->ultralyticsplus==0.0.28)\n",
      "  Downloading terminaltables-3.1.10-py2.py3-none-any.whl (15 kB)\n",
      "Requirement already satisfied: click in /usr/local/lib/python3.10/dist-packages (from sahi<0.12.0,>=0.11.11->ultralyticsplus==0.0.28) (8.1.7)\n",
      "Requirement already satisfied: absl-py>=0.4 in /usr/local/lib/python3.10/dist-packages (from tensorboard>=2.4.1->ultralytics==8.0.43) (1.4.0)\n",
      "Requirement already satisfied: grpcio>=1.48.2 in /usr/local/lib/python3.10/dist-packages (from tensorboard>=2.4.1->ultralytics==8.0.43) (1.64.1)\n",
      "Requirement already satisfied: google-auth<3,>=1.6.3 in /usr/local/lib/python3.10/dist-packages (from tensorboard>=2.4.1->ultralytics==8.0.43) (2.27.0)\n",
      "Requirement already satisfied: google-auth-oauthlib<2,>=0.5 in /usr/local/lib/python3.10/dist-packages (from tensorboard>=2.4.1->ultralytics==8.0.43) (1.2.0)\n",
      "Requirement already satisfied: markdown>=2.6.8 in /usr/local/lib/python3.10/dist-packages (from tensorboard>=2.4.1->ultralytics==8.0.43) (3.6)\n",
      "Requirement already satisfied: protobuf!=4.24.0,>=3.19.6 in /usr/local/lib/python3.10/dist-packages (from tensorboard>=2.4.1->ultralytics==8.0.43) (3.20.3)\n",
      "Requirement already satisfied: setuptools>=41.0.0 in /usr/local/lib/python3.10/dist-packages (from tensorboard>=2.4.1->ultralytics==8.0.43) (67.7.2)\n",
      "Requirement already satisfied: six>1.9 in /usr/local/lib/python3.10/dist-packages (from tensorboard>=2.4.1->ultralytics==8.0.43) (1.16.0)\n",
      "Requirement already satisfied: tensorboard-data-server<0.8.0,>=0.7.0 in /usr/local/lib/python3.10/dist-packages (from tensorboard>=2.4.1->ultralytics==8.0.43) (0.7.2)\n",
      "Requirement already satisfied: werkzeug>=1.0.1 in /usr/local/lib/python3.10/dist-packages (from tensorboard>=2.4.1->ultralytics==8.0.43) (3.0.3)\n",
      "Requirement already satisfied: sympy in /usr/local/lib/python3.10/dist-packages (from torch>=1.7.0->ultralytics==8.0.43) (1.12.1)\n",
      "Requirement already satisfied: networkx in /usr/local/lib/python3.10/dist-packages (from torch>=1.7.0->ultralytics==8.0.43) (3.3)\n",
      "Requirement already satisfied: jinja2 in /usr/local/lib/python3.10/dist-packages (from torch>=1.7.0->ultralytics==8.0.43) (3.1.4)\n",
      "Collecting nvidia-cuda-nvrtc-cu12==12.1.105 (from torch>=1.7.0->ultralytics==8.0.43)\n",
      "  Using cached nvidia_cuda_nvrtc_cu12-12.1.105-py3-none-manylinux1_x86_64.whl (23.7 MB)\n",
      "Collecting nvidia-cuda-runtime-cu12==12.1.105 (from torch>=1.7.0->ultralytics==8.0.43)\n",
      "  Using cached nvidia_cuda_runtime_cu12-12.1.105-py3-none-manylinux1_x86_64.whl (823 kB)\n",
      "Collecting nvidia-cuda-cupti-cu12==12.1.105 (from torch>=1.7.0->ultralytics==8.0.43)\n",
      "  Using cached nvidia_cuda_cupti_cu12-12.1.105-py3-none-manylinux1_x86_64.whl (14.1 MB)\n",
      "Collecting nvidia-cudnn-cu12==8.9.2.26 (from torch>=1.7.0->ultralytics==8.0.43)\n",
      "  Using cached nvidia_cudnn_cu12-8.9.2.26-py3-none-manylinux1_x86_64.whl (731.7 MB)\n",
      "Collecting nvidia-cublas-cu12==12.1.3.1 (from torch>=1.7.0->ultralytics==8.0.43)\n",
      "  Using cached nvidia_cublas_cu12-12.1.3.1-py3-none-manylinux1_x86_64.whl (410.6 MB)\n",
      "Collecting nvidia-cufft-cu12==11.0.2.54 (from torch>=1.7.0->ultralytics==8.0.43)\n",
      "  Using cached nvidia_cufft_cu12-11.0.2.54-py3-none-manylinux1_x86_64.whl (121.6 MB)\n",
      "Collecting nvidia-curand-cu12==10.3.2.106 (from torch>=1.7.0->ultralytics==8.0.43)\n",
      "  Using cached nvidia_curand_cu12-10.3.2.106-py3-none-manylinux1_x86_64.whl (56.5 MB)\n",
      "Collecting nvidia-cusolver-cu12==11.4.5.107 (from torch>=1.7.0->ultralytics==8.0.43)\n",
      "  Using cached nvidia_cusolver_cu12-11.4.5.107-py3-none-manylinux1_x86_64.whl (124.2 MB)\n",
      "Collecting nvidia-cusparse-cu12==12.1.0.106 (from torch>=1.7.0->ultralytics==8.0.43)\n",
      "  Using cached nvidia_cusparse_cu12-12.1.0.106-py3-none-manylinux1_x86_64.whl (196.0 MB)\n",
      "Collecting nvidia-nccl-cu12==2.20.5 (from torch>=1.7.0->ultralytics==8.0.43)\n",
      "  Using cached nvidia_nccl_cu12-2.20.5-py3-none-manylinux2014_x86_64.whl (176.2 MB)\n",
      "Collecting nvidia-nvtx-cu12==12.1.105 (from torch>=1.7.0->ultralytics==8.0.43)\n",
      "  Using cached nvidia_nvtx_cu12-12.1.105-py3-none-manylinux1_x86_64.whl (99 kB)\n",
      "Requirement already satisfied: triton==2.3.0 in /usr/local/lib/python3.10/dist-packages (from torch>=1.7.0->ultralytics==8.0.43) (2.3.0)\n",
      "Collecting nvidia-nvjitlink-cu12 (from nvidia-cusolver-cu12==11.4.5.107->torch>=1.7.0->ultralytics==8.0.43)\n",
      "  Downloading nvidia_nvjitlink_cu12-12.5.40-py3-none-manylinux2014_x86_64.whl (21.3 MB)\n",
      "\u001b[2K     \u001b[90m━━━━━━━━━━━━━━━━━━━━━━━━━━━━━━━━━━━━━━━━\u001b[0m \u001b[32m21.3/21.3 MB\u001b[0m \u001b[31m45.9 MB/s\u001b[0m eta \u001b[36m0:00:00\u001b[0m\n",
      "\u001b[?25hRequirement already satisfied: termcolor in /usr/local/lib/python3.10/dist-packages (from fire->ultralyticsplus==0.0.28) (2.4.0)\n",
      "Requirement already satisfied: cachetools<6.0,>=2.0.0 in /usr/local/lib/python3.10/dist-packages (from google-auth<3,>=1.6.3->tensorboard>=2.4.1->ultralytics==8.0.43) (5.3.3)\n",
      "Requirement already satisfied: pyasn1-modules>=0.2.1 in /usr/local/lib/python3.10/dist-packages (from google-auth<3,>=1.6.3->tensorboard>=2.4.1->ultralytics==8.0.43) (0.4.0)\n",
      "Requirement already satisfied: rsa<5,>=3.1.4 in /usr/local/lib/python3.10/dist-packages (from google-auth<3,>=1.6.3->tensorboard>=2.4.1->ultralytics==8.0.43) (4.9)\n",
      "Requirement already satisfied: requests-oauthlib>=0.7.0 in /usr/local/lib/python3.10/dist-packages (from google-auth-oauthlib<2,>=0.5->tensorboard>=2.4.1->ultralytics==8.0.43) (1.3.1)\n",
      "Requirement already satisfied: MarkupSafe>=2.1.1 in /usr/local/lib/python3.10/dist-packages (from werkzeug>=1.0.1->tensorboard>=2.4.1->ultralytics==8.0.43) (2.1.5)\n",
      "Requirement already satisfied: mpmath<1.4.0,>=1.1.0 in /usr/local/lib/python3.10/dist-packages (from sympy->torch>=1.7.0->ultralytics==8.0.43) (1.3.0)\n",
      "Requirement already satisfied: pyasn1<0.7.0,>=0.4.6 in /usr/local/lib/python3.10/dist-packages (from pyasn1-modules>=0.2.1->google-auth<3,>=1.6.3->tensorboard>=2.4.1->ultralytics==8.0.43) (0.6.0)\n",
      "Requirement already satisfied: oauthlib>=3.0.0 in /usr/local/lib/python3.10/dist-packages (from requests-oauthlib>=0.7.0->google-auth-oauthlib<2,>=0.5->tensorboard>=2.4.1->ultralytics==8.0.43) (3.2.2)\n",
      "Building wheels for collected packages: fire\n",
      "  Building wheel for fire (setup.py) ... \u001b[?25l\u001b[?25hdone\n",
      "  Created wheel for fire: filename=fire-0.6.0-py2.py3-none-any.whl size=117029 sha256=504571d6490c1c2833a41d59e3bf6ce124a80da5d81b4da1b1b59d3db4915931\n",
      "  Stored in directory: /root/.cache/pip/wheels/d6/6d/5d/5b73fa0f46d01a793713f8859201361e9e581ced8c75e5c6a3\n",
      "Successfully built fire\n",
      "Installing collected packages: terminaltables, sentry-sdk, pybboxes, nvidia-nvtx-cu12, nvidia-nvjitlink-cu12, nvidia-nccl-cu12, nvidia-curand-cu12, nvidia-cufft-cu12, nvidia-cuda-runtime-cu12, nvidia-cuda-nvrtc-cu12, nvidia-cuda-cupti-cu12, nvidia-cublas-cu12, fire, sahi, nvidia-cusparse-cu12, nvidia-cudnn-cu12, nvidia-cusolver-cu12, thop, ultralytics, ultralyticsplus\n",
      "Successfully installed fire-0.6.0 nvidia-cublas-cu12-12.1.3.1 nvidia-cuda-cupti-cu12-12.1.105 nvidia-cuda-nvrtc-cu12-12.1.105 nvidia-cuda-runtime-cu12-12.1.105 nvidia-cudnn-cu12-8.9.2.26 nvidia-cufft-cu12-11.0.2.54 nvidia-curand-cu12-10.3.2.106 nvidia-cusolver-cu12-11.4.5.107 nvidia-cusparse-cu12-12.1.0.106 nvidia-nccl-cu12-2.20.5 nvidia-nvjitlink-cu12-12.5.40 nvidia-nvtx-cu12-12.1.105 pybboxes-0.1.6 sahi-0.11.16 sentry-sdk-2.6.0 terminaltables-3.1.10 thop-0.1.1.post2209072238 ultralytics-8.0.43 ultralyticsplus-0.0.28\n"
     ]
    }
   ],
   "source": [
    "pip install ultralyticsplus==0.0.28 ultralytics==8.0.43\n"
   ]
  },
  {
   "cell_type": "markdown",
   "metadata": {
    "id": "aQa5WcqXd1nK"
   },
   "source": []
  },
  {
   "cell_type": "code",
   "execution_count": 2,
   "metadata": {
    "colab": {
     "base_uri": "https://localhost:8080/",
     "height": 205,
     "referenced_widgets": [
      "a4e507bf224e4bad8daca5460f700ff1",
      "4280e253444b46698e639a511c75fa33",
      "64fc8f6b8f184d20902df5ba73265d21",
      "2c48613ca0994ec38a96aaa5327f7dab",
      "46547c9415134f47819cc4a77ee72dae",
      "94386e47fb2b4871986476486da82419",
      "df6bc52931a041dfabdd97fa1d868e12",
      "caf4ae7115ba4b0c8ae5bbb4004985a9",
      "977c125206fa4deaa41ff73655a632fe",
      "a205da4733974e639f430d7d910892dd",
      "0cd6a402679c452ba65c6c2e78bff8d5",
      "c6dd1d1158d4461ab7e542f4364fc9b7",
      "5268b281c2c14735b01a258669fd8f85",
      "210690051c7843c1a979d4ba34720883",
      "5d68eca70e4b46bea441894d560815af",
      "752dcc618cf84ad4a0842e11578dd85e",
      "c8b94f0e9d374bfca1159c90d942b33d",
      "837bc8f352ca4477932a063b8e311c83",
      "dcd352fde32e47828d2d9fbdd08c98cc",
      "c647b026c6c54268bdd1a53649bb95b5",
      "39b09f34894447268b771110aa6eaa4c",
      "bd4842ef6c224930b86d556877e498ed"
     ]
    },
    "id": "2DZkzeIhQbot",
    "outputId": "519daf4e-67a6-4b95-da2e-980c0b2f460c"
   },
   "outputs": [
    {
     "name": "stderr",
     "output_type": "stream",
     "text": [
      "/usr/local/lib/python3.10/dist-packages/huggingface_hub/utils/_token.py:89: UserWarning: \n",
      "The secret `HF_TOKEN` does not exist in your Colab secrets.\n",
      "To authenticate with the Hugging Face Hub, create a token in your settings tab (https://huggingface.co/settings/tokens), set it as secret in your Google Colab and restart your session.\n",
      "You will be able to reuse this secret in all of your notebooks.\n",
      "Please note that authentication is recommended but still optional to access public models or datasets.\n",
      "  warnings.warn(\n"
     ]
    },
    {
     "data": {
      "application/vnd.jupyter.widget-view+json": {
       "model_id": "a4e507bf224e4bad8daca5460f700ff1",
       "version_major": 2,
       "version_minor": 0
      },
      "text/plain": [
       "config.json:   0%|          | 0.00/161 [00:00<?, ?B/s]"
      ]
     },
     "metadata": {},
     "output_type": "display_data"
    },
    {
     "data": {
      "application/vnd.jupyter.widget-view+json": {
       "model_id": "c6dd1d1158d4461ab7e542f4364fc9b7",
       "version_major": 2,
       "version_minor": 0
      },
      "text/plain": [
       "best.pt:   0%|          | 0.00/22.5M [00:00<?, ?B/s]"
      ]
     },
     "metadata": {},
     "output_type": "display_data"
    }
   ],
   "source": [
    "from ultralyticsplus import YOLO, render_result\n",
    "import matplotlib.pyplot as plt\n",
    "import cv2\n",
    "import numpy as np\n",
    "\n",
    "model = YOLO('foduucom/plant-leaf-detection-and-classification')\n",
    "#set model parameters\n",
    "model.overrides['conf'] = 0.25  # NMS confidence threshold\n",
    "model.overrides['iou'] = 0.45  # NMS IoU threshold\n",
    "model.overrides['agnostic_nms'] = False  # NMS class-agnostic\n",
    "model.overrides['max_det'] = 1000  # maximum number of detections per image\n",
    "\n",
    "\n"
   ]
  },
  {
   "cell_type": "code",
   "execution_count": 3,
   "metadata": {
    "colab": {
     "base_uri": "https://localhost:8080/"
    },
    "id": "6Py8Aqs3MlUl",
    "outputId": "4bc3783d-9b2d-46b8-a36c-aaeb098e1a58"
   },
   "outputs": [
    {
     "name": "stderr",
     "output_type": "stream",
     "text": [
      "Ultralytics YOLOv8.0.43 🚀 Python-3.10.12 torch-2.3.0+cu121 CPU\n",
      "Model summary (fused): 168 layers, 11143386 parameters, 0 gradients, 28.5 GFLOPs\n",
      "\n",
      "0: 352x640 2 tomatos, 716.6ms\n",
      "Speed: 2.7ms preprocess, 716.6ms inference, 30.7ms postprocess per image at shape (1, 3, 640, 640)\n"
     ]
    }
   ],
   "source": [
    "image = '/content/drive/MyDrive/Tom_test/tom3.jpg'\n",
    "image=cv2.imread(image)\n",
    "\n",
    "results = model.predict(image)\n"
   ]
  },
  {
   "cell_type": "code",
   "execution_count": 4,
   "metadata": {
    "colab": {
     "base_uri": "https://localhost:8080/"
    },
    "id": "idEcCtSItAgo",
    "outputId": "070d967c-9fe4-4eb1-d05e-43bb9f01e635"
   },
   "outputs": [
    {
     "name": "stdout",
     "output_type": "stream",
     "text": [
      "False\n"
     ]
    }
   ],
   "source": [
    "flag=False\n",
    "for result in results:\n",
    "    for box in result.boxes:\n",
    "        class_id = result.names[box.cls[0].item()]\n",
    "        if (class_id == \"no detections\"):\n",
    "            flag=True\n",
    "            break\n",
    "\n",
    "print(flag)"
   ]
  },
  {
   "cell_type": "code",
   "execution_count": 5,
   "metadata": {
    "colab": {
     "base_uri": "https://localhost:8080/"
    },
    "id": "97jxRBaFW9Gn",
    "outputId": "35f8a7de-fc96-49bd-ebb4-7a4244d3117e"
   },
   "outputs": [
    {
     "data": {
      "text/plain": [
       "True"
      ]
     },
     "execution_count": 5,
     "metadata": {},
     "output_type": "execute_result"
    }
   ],
   "source": [
    "\n",
    "render = render_result(model=model, image=image, result=results[0])\n",
    "\n",
    "render=np.array(render)\n",
    "render.shape\n",
    "cv2.imwrite(\"yolo.jpg\",render)"
   ]
  },
  {
   "cell_type": "markdown",
   "metadata": {
    "id": "L6Yo4wbBaO5U"
   },
   "source": [
    "# choose the the biggest box to crop"
   ]
  },
  {
   "cell_type": "code",
   "execution_count": 6,
   "metadata": {
    "colab": {
     "base_uri": "https://localhost:8080/"
    },
    "id": "RrDWKcbJPiPd",
    "outputId": "21a51ba9-c616-4431-af13-6205712e8407"
   },
   "outputs": [
    {
     "data": {
      "text/plain": [
       "1"
      ]
     },
     "execution_count": 6,
     "metadata": {},
     "output_type": "execute_result"
    }
   ],
   "source": [
    "res_numpy=np.array(results[0].boxes.xywh)\n",
    "no_res=len(res_numpy)\n",
    "res=[w*h for x,y,w,h in (res_numpy)]\n",
    "box_index=np.argmax(res)\n",
    "box_index\n"
   ]
  },
  {
   "cell_type": "code",
   "execution_count": 7,
   "metadata": {
    "colab": {
     "base_uri": "https://localhost:8080/"
    },
    "id": "UbH9AVTMRKKi",
    "outputId": "b8b56baa-0a7e-43de-d04f-9f96c2575321"
   },
   "outputs": [
    {
     "data": {
      "text/plain": [
       "array([[        235,         110,         418,         315]], dtype=float32)"
      ]
     },
     "execution_count": 7,
     "metadata": {},
     "output_type": "execute_result"
    }
   ],
   "source": [
    "res_box=np.array(results[0].boxes[box_index].xyxy)\n",
    "res_box"
   ]
  },
  {
   "cell_type": "code",
   "execution_count": 8,
   "metadata": {
    "colab": {
     "base_uri": "https://localhost:8080/"
    },
    "id": "_1n-WWfvQ6xX",
    "outputId": "4a5f7fc4-cfee-4c8d-e498-c32c97728cec"
   },
   "outputs": [
    {
     "data": {
      "text/plain": [
       "(235, 110, 418, 315)"
      ]
     },
     "execution_count": 8,
     "metadata": {},
     "output_type": "execute_result"
    }
   ],
   "source": [
    "x_min=int(res_box[0][0])\n",
    "y_min=int(res_box[0][1])\n",
    "x_max=int(res_box[0][2])\n",
    "y_max=int(res_box[0][3])\n",
    "box=(x_min,y_min,x_max,y_max)\n",
    "box"
   ]
  },
  {
   "cell_type": "code",
   "execution_count": 9,
   "metadata": {
    "colab": {
     "base_uri": "https://localhost:8080/",
     "height": 245
    },
    "id": "IGhdMuCahpvL",
    "outputId": "1cbc2caf-70f4-4f75-e9a6-01c2958e0da2"
   },
   "outputs": [
    {
     "data": {
      "text/html": [
       "<style>\n",
       "      .ndarray_repr .ndarray_raw_data {\n",
       "        display: none;\n",
       "      }\n",
       "      .ndarray_repr.show_array .ndarray_raw_data {\n",
       "        display: block;\n",
       "      }\n",
       "      .ndarray_repr.show_array .ndarray_image_preview {\n",
       "        display: none;\n",
       "      }\n",
       "      </style>\n",
       "      <div id=\"id-505e9e22-8cc3-4211-a1eb-0325898518b7\" class=\"ndarray_repr\"><pre>ndarray (205, 183, 3) <button style=\"padding: 0 2px;\">show data</button></pre><img src=\"data:image/png;base64,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\" class=\"ndarray_image_preview\" /><pre class=\"ndarray_raw_data\">array([[[ 80, 149, 169],\n",
       "        [ 82, 149, 170],\n",
       "        [ 83, 150, 171],\n",
       "        ...,\n",
       "        [ 99, 166, 191],\n",
       "        [102, 170, 193],\n",
       "        [104, 172, 195]],\n",
       "\n",
       "       [[ 83, 152, 172],\n",
       "        [ 82, 151, 171],\n",
       "        [ 84, 151, 172],\n",
       "        ...,\n",
       "        [ 99, 166, 191],\n",
       "        [102, 170, 193],\n",
       "        [104, 172, 195]],\n",
       "\n",
       "       [[ 82, 150, 169],\n",
       "        [ 83, 151, 170],\n",
       "        [ 84, 153, 170],\n",
       "        ...,\n",
       "        [104, 171, 198],\n",
       "        [103, 167, 202],\n",
       "        [104, 168, 203]],\n",
       "\n",
       "       ...,\n",
       "\n",
       "       [[ 49,  93,  62],\n",
       "        [ 49,  93,  62],\n",
       "        [ 48,  92,  61],\n",
       "        ...,\n",
       "        [ 35, 118, 110],\n",
       "        [ 35, 117, 105],\n",
       "        [ 31, 113, 101]],\n",
       "\n",
       "       [[ 49,  93,  62],\n",
       "        [ 49,  93,  62],\n",
       "        [ 48,  92,  61],\n",
       "        ...,\n",
       "        [ 35, 118, 110],\n",
       "        [ 35, 117, 105],\n",
       "        [ 31, 113, 101]],\n",
       "\n",
       "       [[ 49,  93,  62],\n",
       "        [ 49,  93,  62],\n",
       "        [ 48,  92,  61],\n",
       "        ...,\n",
       "        [ 35, 118, 110],\n",
       "        [ 35, 117, 105],\n",
       "        [ 31, 113, 101]]], dtype=uint8)</pre></div><script>\n",
       "      (() => {\n",
       "      const titles = ['show data', 'hide data'];\n",
       "      let index = 0\n",
       "      document.querySelector('#id-505e9e22-8cc3-4211-a1eb-0325898518b7 button').onclick = (e) => {\n",
       "        document.querySelector('#id-505e9e22-8cc3-4211-a1eb-0325898518b7').classList.toggle('show_array');\n",
       "        index = (++index) % 2;\n",
       "        document.querySelector('#id-505e9e22-8cc3-4211-a1eb-0325898518b7 button').textContent = titles[index];\n",
       "        e.preventDefault();\n",
       "        e.stopPropagation();\n",
       "      }\n",
       "      })();\n",
       "    </script>"
      ],
      "text/plain": [
       "array([[[ 80, 149, 169],\n",
       "        [ 82, 149, 170],\n",
       "        [ 83, 150, 171],\n",
       "        ...,\n",
       "        [ 99, 166, 191],\n",
       "        [102, 170, 193],\n",
       "        [104, 172, 195]],\n",
       "\n",
       "       [[ 83, 152, 172],\n",
       "        [ 82, 151, 171],\n",
       "        [ 84, 151, 172],\n",
       "        ...,\n",
       "        [ 99, 166, 191],\n",
       "        [102, 170, 193],\n",
       "        [104, 172, 195]],\n",
       "\n",
       "       [[ 82, 150, 169],\n",
       "        [ 83, 151, 170],\n",
       "        [ 84, 153, 170],\n",
       "        ...,\n",
       "        [104, 171, 198],\n",
       "        [103, 167, 202],\n",
       "        [104, 168, 203]],\n",
       "\n",
       "       ...,\n",
       "\n",
       "       [[ 49,  93,  62],\n",
       "        [ 49,  93,  62],\n",
       "        [ 48,  92,  61],\n",
       "        ...,\n",
       "        [ 35, 118, 110],\n",
       "        [ 35, 117, 105],\n",
       "        [ 31, 113, 101]],\n",
       "\n",
       "       [[ 49,  93,  62],\n",
       "        [ 49,  93,  62],\n",
       "        [ 48,  92,  61],\n",
       "        ...,\n",
       "        [ 35, 118, 110],\n",
       "        [ 35, 117, 105],\n",
       "        [ 31, 113, 101]],\n",
       "\n",
       "       [[ 49,  93,  62],\n",
       "        [ 49,  93,  62],\n",
       "        [ 48,  92,  61],\n",
       "        ...,\n",
       "        [ 35, 118, 110],\n",
       "        [ 35, 117, 105],\n",
       "        [ 31, 113, 101]]], dtype=uint8)"
      ]
     },
     "execution_count": 9,
     "metadata": {},
     "output_type": "execute_result"
    }
   ],
   "source": [
    "\n",
    "cropped_image = image[y_min:y_max, x_min:x_max]\n",
    "cropped_image"
   ]
  },
  {
   "cell_type": "code",
   "execution_count": 10,
   "metadata": {
    "colab": {
     "base_uri": "https://localhost:8080/"
    },
    "id": "CDoLjtJlkMNG",
    "outputId": "e3fc7433-994d-411a-8046-9a7b400dad8a"
   },
   "outputs": [
    {
     "data": {
      "text/plain": [
       "True"
      ]
     },
     "execution_count": 10,
     "metadata": {},
     "output_type": "execute_result"
    }
   ],
   "source": [
    "cv2.imwrite(\"cropped_image.jpg\",cropped_image)"
   ]
  },
  {
   "cell_type": "markdown",
   "metadata": {
    "id": "3e_qG6mbZsay"
   },
   "source": [
    "## ready segmentaion"
   ]
  },
  {
   "cell_type": "code",
   "execution_count": 11,
   "metadata": {
    "colab": {
     "base_uri": "https://localhost:8080/"
    },
    "id": "FiZyqRPKzJXf",
    "outputId": "569c536d-2045-471d-87c5-540ab1c0a570"
   },
   "outputs": [
    {
     "name": "stdout",
     "output_type": "stream",
     "text": [
      "Image saved to /content/drive/MyDrive/Tom_test/output_image.jpg\n"
     ]
    }
   ],
   "source": [
    "\n",
    "# Specify the path where you want to save the image in Google Drive\n",
    "save_path = '/content/drive/MyDrive/Tom_test/output_image.jpg'\n",
    "\n",
    "# Save the image using OpenCV\n",
    "cv2.imwrite(save_path, cropped_image)\n",
    "\n",
    "print(f\"Image saved to {save_path}\")\n"
   ]
  },
  {
   "cell_type": "code",
   "execution_count": null,
   "metadata": {
    "colab": {
     "base_uri": "https://localhost:8080/"
    },
    "id": "d2I0SDxMZknQ",
    "outputId": "534ac8c0-a82c-424c-aef2-cf8d90fbbcdf"
   },
   "outputs": [],
   "source": [
    "import os\n",
    "from imutils import paths\n",
    "import imageio\n",
    "\n",
    "import numpy as np\n",
    "from tqdm import tqdm\n",
    "import cv2\n",
    "import torch\n",
    "from torch.utils.data import Dataset, DataLoader\n",
    "from torchvision import transforms\n",
    "\n",
    "from model import ResNetUNet\n",
    "from utility import reverse_transform, reverse_transform_mask\n",
    "#from utilities import reverse_transform, reverse_transform_mask\n",
    "#from preprocess import check_dir\n",
    "from generate_dataset import check_dir\n",
    "\n",
    "WEIGHT_PATH = \"/content/drive/MyDrive/Segmentation\"\n",
    "USE_BEST_VAL = True\n",
    "DISPLAY_PLOTS = False\n",
    "TEST_DIR = \"/content/drive/MyDrive/Tom_test\"\n",
    "SAVE_PATH = \"/content/drive/MyDrive/Tom_test\"\n",
    "PREFIX = \"seg_\"\n",
    "\n",
    "trans = transforms.Compose([\n",
    "    transforms.ToTensor()\n",
    "])\n",
    "\n",
    "\n",
    "class parseTestset(Dataset):\n",
    "    def __init__(self, img_paths, transform=None):\n",
    "        self.img_paths = img_paths\n",
    "        self.transform = transform\n",
    "\n",
    "    def __len__(self):\n",
    "        return len(self.img_paths)\n",
    "\n",
    "    def __getitem__(self, idx):\n",
    "        image_path = self.img_paths[idx]\n",
    "        image = cv2.imread(image_path)\n",
    "        image = cv2.cvtColor(image, cv2.COLOR_BGR2RGB)\n",
    "        image = cv2.resize(image, (224, 224))\n",
    "\n",
    "        _, filename = os.path.split(image_path)\n",
    "\n",
    "        if self.transform:\n",
    "            image = self.transform(image)  # ToTensor\n",
    "            image = transforms.Normalize(  # TODO: remove this?\n",
    "                [0.485, 0.456, 0.406],\n",
    "                [0.229, 0.224, 0.225])(image)\n",
    "        return image, filename\n",
    "\n",
    "\n",
    "if __name__ == \"__main__\":\n",
    "    device = torch.device(\"cuda:0\" if torch.cuda.is_available() else \"cpu\")\n",
    "    print(f'running on: {device}')\n",
    "\n",
    "    num_class = 1\n",
    "    model = ResNetUNet(num_class).to(device)\n",
    "\n",
    "#model.load_state_dict(torch.load(model_path))\n",
    "\n",
    "\n",
    "    if USE_BEST_VAL:\n",
    "        model.load_state_dict(torch.load(\n",
    "            (os.path.join(WEIGHT_PATH, \"best_val_weights.pth\")), map_location=torch.device('cpu')))\n",
    "    else:\n",
    "        model.load_state_dict(torch.load(\n",
    "            (os.path.join(WEIGHT_PATH, \"latest_weights.pth\")),map_location=torch.device('cpu')))\n",
    "##############\n",
    "    test_img_paths = list(paths.list_images(TEST_DIR))\n",
    "    print(f'found {len(test_img_paths)} images')\n",
    "\n",
    "    # small batch_size if you are testing on 1 or 2 images\n",
    "    b_size = min(25, len(test_img_paths))\n",
    "\n",
    "    test_set = parseTestset(test_img_paths, transform=trans)\n",
    "    test_loader = DataLoader(test_set, batch_size=b_size,\n",
    "                             shuffle=True, num_workers=0)\n",
    "\n",
    "    check_dir(SAVE_PATH)\n",
    "\n",
    "    model.eval()\n",
    "    for i, batch_pair in enumerate(tqdm(test_loader)):\n",
    "        img_batch = batch_pair[0].to(device)\n",
    "        img_names = batch_pair[1]\n",
    "\n",
    "        seg_batch = model(img_batch)\n",
    "        seg_batch = torch.sigmoid(seg_batch)\n",
    "        for img, seg, filename in zip(img_batch, seg_batch, img_names):\n",
    "            seg_np = seg.cpu().detach()\n",
    "            seg_np = reverse_transform_mask(seg_np)\n",
    "            seg_np = np.where(seg_np > 220, 1, 0)\n",
    "\n",
    "            img_np = img.cpu()\n",
    "            img_np = reverse_transform(img_np)\n",
    "            prod_img = np.multiply(seg_np, img_np).astype(\"uint8\")\n",
    "\n",
    "            if len(PREFIX) > 0:\n",
    "                filename = PREFIX + filename\n",
    "\n",
    "            savename = os.path.join(SAVE_PATH, filename)\n",
    "            imageio.imwrite(savename, prod_img)"
   ]
  },
  {
   "cell_type": "markdown",
   "metadata": {},
   "source": [
    "## Classification model"
   ]
  },
  {
   "cell_type": "code",
   "execution_count": 20,
   "metadata": {
    "id": "8d-QCKEo9Huh"
   },
   "outputs": [],
   "source": [
    "import tensorflow as tf\n"
   ]
  },
  {
   "cell_type": "code",
   "execution_count": 21,
   "metadata": {
    "id": "KFw7r1LDZbTV"
   },
   "outputs": [],
   "source": [
    "masked_image=cv2.imread('/content/drive/MyDrive/Tom_test/seg_output_image.jpg')"
   ]
  },
  {
   "cell_type": "code",
   "execution_count": 22,
   "metadata": {
    "id": "LjUQUyq_glZ1"
   },
   "outputs": [],
   "source": [
    "masked_image=cv2.resize(masked_image,(224,224))\n",
    "#masked_image=cv2.resize(cropped_image,(224,224))\n",
    "masked_image=np.array(masked_image)\n",
    "masked_image = np.expand_dims(masked_image, axis=0)"
   ]
  },
  {
   "cell_type": "code",
   "execution_count": 23,
   "metadata": {
    "id": "IcepVZoT-BLR"
   },
   "outputs": [],
   "source": [
    "loaded_model_class = tf.keras.models.load_model('/content/drive/MyDrive/classification_model (1).h5')"
   ]
  },
  {
   "cell_type": "code",
   "execution_count": 24,
   "metadata": {
    "colab": {
     "base_uri": "https://localhost:8080/"
    },
    "id": "_fGfc_O8Zod7",
    "outputId": "aa471d42-caa6-43c6-f2af-735ab4a25523"
   },
   "outputs": [
    {
     "name": "stdout",
     "output_type": "stream",
     "text": [
      "1/1 [==============================] - 1s 988ms/step\n"
     ]
    }
   ],
   "source": [
    "\n",
    "\n",
    "\n",
    "y_pred = loaded_model_class.predict(masked_image)\n",
    "y_pred = np.argmax(y_pred,axis=1)\n",
    "disease_names = {\n",
    "                0: \"Bacterial Spot\",\n",
    "                1: \"Early Blight\",\n",
    "                2: \"Late Blight\",\n",
    "                3: \"Leaf Mold\",\n",
    "                4: \"Septoria Leaf Spot\",\n",
    "                5: \"Spider Mites\",\n",
    "                6: \"Target Spot\",\n",
    "                7: \"Yellow Leaf Curl Virus\",\n",
    "                8: \"Mosaic Virus\",\n",
    "                9: \"healthy\"\n",
    "            }\n"
   ]
  },
  {
   "cell_type": "code",
   "execution_count": 25,
   "metadata": {
    "colab": {
     "base_uri": "https://localhost:8080/",
     "height": 35
    },
    "id": "OlE3hRSog2E6",
    "outputId": "7304a2df-87cf-4399-d498-68836c042e48"
   },
   "outputs": [
    {
     "data": {
      "application/vnd.google.colaboratory.intrinsic+json": {
       "type": "string"
      },
      "text/plain": [
       "'Late Blight'"
      ]
     },
     "execution_count": 25,
     "metadata": {},
     "output_type": "execute_result"
    }
   ],
   "source": [
    "disease_names[y_pred[0]]"
   ]
  },
  {
   "cell_type": "code",
   "execution_count": null,
   "metadata": {
    "id": "W6-MKoch9c_d"
   },
   "outputs": [],
   "source": []
  }
 ],
 "metadata": {
  "colab": {
   "provenance": []
  },
  "kernelspec": {
   "display_name": "Python 3 (ipykernel)",
   "language": "python",
   "name": "python3"
  },
  "language_info": {
   "codemirror_mode": {
    "name": "ipython",
    "version": 3
   },
   "file_extension": ".py",
   "mimetype": "text/x-python",
   "name": "python",
   "nbconvert_exporter": "python",
   "pygments_lexer": "ipython3",
   "version": "3.9.19"
  },
  "widgets": {
   "application/vnd.jupyter.widget-state+json": {
    "0cd6a402679c452ba65c6c2e78bff8d5": {
     "model_module": "@jupyter-widgets/controls",
     "model_module_version": "1.5.0",
     "model_name": "DescriptionStyleModel",
     "state": {
      "_model_module": "@jupyter-widgets/controls",
      "_model_module_version": "1.5.0",
      "_model_name": "DescriptionStyleModel",
      "_view_count": null,
      "_view_module": "@jupyter-widgets/base",
      "_view_module_version": "1.2.0",
      "_view_name": "StyleView",
      "description_width": ""
     }
    },
    "210690051c7843c1a979d4ba34720883": {
     "model_module": "@jupyter-widgets/controls",
     "model_module_version": "1.5.0",
     "model_name": "FloatProgressModel",
     "state": {
      "_dom_classes": [],
      "_model_module": "@jupyter-widgets/controls",
      "_model_module_version": "1.5.0",
      "_model_name": "FloatProgressModel",
      "_view_count": null,
      "_view_module": "@jupyter-widgets/controls",
      "_view_module_version": "1.5.0",
      "_view_name": "ProgressView",
      "bar_style": "success",
      "description": "",
      "description_tooltip": null,
      "layout": "IPY_MODEL_dcd352fde32e47828d2d9fbdd08c98cc",
      "max": 22520120,
      "min": 0,
      "orientation": "horizontal",
      "style": "IPY_MODEL_c647b026c6c54268bdd1a53649bb95b5",
      "value": 22520120
     }
    },
    "2c48613ca0994ec38a96aaa5327f7dab": {
     "model_module": "@jupyter-widgets/controls",
     "model_module_version": "1.5.0",
     "model_name": "HTMLModel",
     "state": {
      "_dom_classes": [],
      "_model_module": "@jupyter-widgets/controls",
      "_model_module_version": "1.5.0",
      "_model_name": "HTMLModel",
      "_view_count": null,
      "_view_module": "@jupyter-widgets/controls",
      "_view_module_version": "1.5.0",
      "_view_name": "HTMLView",
      "description": "",
      "description_tooltip": null,
      "layout": "IPY_MODEL_a205da4733974e639f430d7d910892dd",
      "placeholder": "​",
      "style": "IPY_MODEL_0cd6a402679c452ba65c6c2e78bff8d5",
      "value": " 161/161 [00:00&lt;00:00, 2.68kB/s]"
     }
    },
    "39b09f34894447268b771110aa6eaa4c": {
     "model_module": "@jupyter-widgets/base",
     "model_module_version": "1.2.0",
     "model_name": "LayoutModel",
     "state": {
      "_model_module": "@jupyter-widgets/base",
      "_model_module_version": "1.2.0",
      "_model_name": "LayoutModel",
      "_view_count": null,
      "_view_module": "@jupyter-widgets/base",
      "_view_module_version": "1.2.0",
      "_view_name": "LayoutView",
      "align_content": null,
      "align_items": null,
      "align_self": null,
      "border": null,
      "bottom": null,
      "display": null,
      "flex": null,
      "flex_flow": null,
      "grid_area": null,
      "grid_auto_columns": null,
      "grid_auto_flow": null,
      "grid_auto_rows": null,
      "grid_column": null,
      "grid_gap": null,
      "grid_row": null,
      "grid_template_areas": null,
      "grid_template_columns": null,
      "grid_template_rows": null,
      "height": null,
      "justify_content": null,
      "justify_items": null,
      "left": null,
      "margin": null,
      "max_height": null,
      "max_width": null,
      "min_height": null,
      "min_width": null,
      "object_fit": null,
      "object_position": null,
      "order": null,
      "overflow": null,
      "overflow_x": null,
      "overflow_y": null,
      "padding": null,
      "right": null,
      "top": null,
      "visibility": null,
      "width": null
     }
    },
    "4280e253444b46698e639a511c75fa33": {
     "model_module": "@jupyter-widgets/controls",
     "model_module_version": "1.5.0",
     "model_name": "HTMLModel",
     "state": {
      "_dom_classes": [],
      "_model_module": "@jupyter-widgets/controls",
      "_model_module_version": "1.5.0",
      "_model_name": "HTMLModel",
      "_view_count": null,
      "_view_module": "@jupyter-widgets/controls",
      "_view_module_version": "1.5.0",
      "_view_name": "HTMLView",
      "description": "",
      "description_tooltip": null,
      "layout": "IPY_MODEL_94386e47fb2b4871986476486da82419",
      "placeholder": "​",
      "style": "IPY_MODEL_df6bc52931a041dfabdd97fa1d868e12",
      "value": "config.json: 100%"
     }
    },
    "46547c9415134f47819cc4a77ee72dae": {
     "model_module": "@jupyter-widgets/base",
     "model_module_version": "1.2.0",
     "model_name": "LayoutModel",
     "state": {
      "_model_module": "@jupyter-widgets/base",
      "_model_module_version": "1.2.0",
      "_model_name": "LayoutModel",
      "_view_count": null,
      "_view_module": "@jupyter-widgets/base",
      "_view_module_version": "1.2.0",
      "_view_name": "LayoutView",
      "align_content": null,
      "align_items": null,
      "align_self": null,
      "border": null,
      "bottom": null,
      "display": null,
      "flex": null,
      "flex_flow": null,
      "grid_area": null,
      "grid_auto_columns": null,
      "grid_auto_flow": null,
      "grid_auto_rows": null,
      "grid_column": null,
      "grid_gap": null,
      "grid_row": null,
      "grid_template_areas": null,
      "grid_template_columns": null,
      "grid_template_rows": null,
      "height": null,
      "justify_content": null,
      "justify_items": null,
      "left": null,
      "margin": null,
      "max_height": null,
      "max_width": null,
      "min_height": null,
      "min_width": null,
      "object_fit": null,
      "object_position": null,
      "order": null,
      "overflow": null,
      "overflow_x": null,
      "overflow_y": null,
      "padding": null,
      "right": null,
      "top": null,
      "visibility": null,
      "width": null
     }
    },
    "5268b281c2c14735b01a258669fd8f85": {
     "model_module": "@jupyter-widgets/controls",
     "model_module_version": "1.5.0",
     "model_name": "HTMLModel",
     "state": {
      "_dom_classes": [],
      "_model_module": "@jupyter-widgets/controls",
      "_model_module_version": "1.5.0",
      "_model_name": "HTMLModel",
      "_view_count": null,
      "_view_module": "@jupyter-widgets/controls",
      "_view_module_version": "1.5.0",
      "_view_name": "HTMLView",
      "description": "",
      "description_tooltip": null,
      "layout": "IPY_MODEL_c8b94f0e9d374bfca1159c90d942b33d",
      "placeholder": "​",
      "style": "IPY_MODEL_837bc8f352ca4477932a063b8e311c83",
      "value": "best.pt: 100%"
     }
    },
    "5d68eca70e4b46bea441894d560815af": {
     "model_module": "@jupyter-widgets/controls",
     "model_module_version": "1.5.0",
     "model_name": "HTMLModel",
     "state": {
      "_dom_classes": [],
      "_model_module": "@jupyter-widgets/controls",
      "_model_module_version": "1.5.0",
      "_model_name": "HTMLModel",
      "_view_count": null,
      "_view_module": "@jupyter-widgets/controls",
      "_view_module_version": "1.5.0",
      "_view_name": "HTMLView",
      "description": "",
      "description_tooltip": null,
      "layout": "IPY_MODEL_39b09f34894447268b771110aa6eaa4c",
      "placeholder": "​",
      "style": "IPY_MODEL_bd4842ef6c224930b86d556877e498ed",
      "value": " 22.5M/22.5M [00:00&lt;00:00, 35.9MB/s]"
     }
    },
    "64fc8f6b8f184d20902df5ba73265d21": {
     "model_module": "@jupyter-widgets/controls",
     "model_module_version": "1.5.0",
     "model_name": "FloatProgressModel",
     "state": {
      "_dom_classes": [],
      "_model_module": "@jupyter-widgets/controls",
      "_model_module_version": "1.5.0",
      "_model_name": "FloatProgressModel",
      "_view_count": null,
      "_view_module": "@jupyter-widgets/controls",
      "_view_module_version": "1.5.0",
      "_view_name": "ProgressView",
      "bar_style": "success",
      "description": "",
      "description_tooltip": null,
      "layout": "IPY_MODEL_caf4ae7115ba4b0c8ae5bbb4004985a9",
      "max": 161,
      "min": 0,
      "orientation": "horizontal",
      "style": "IPY_MODEL_977c125206fa4deaa41ff73655a632fe",
      "value": 161
     }
    },
    "752dcc618cf84ad4a0842e11578dd85e": {
     "model_module": "@jupyter-widgets/base",
     "model_module_version": "1.2.0",
     "model_name": "LayoutModel",
     "state": {
      "_model_module": "@jupyter-widgets/base",
      "_model_module_version": "1.2.0",
      "_model_name": "LayoutModel",
      "_view_count": null,
      "_view_module": "@jupyter-widgets/base",
      "_view_module_version": "1.2.0",
      "_view_name": "LayoutView",
      "align_content": null,
      "align_items": null,
      "align_self": null,
      "border": null,
      "bottom": null,
      "display": null,
      "flex": null,
      "flex_flow": null,
      "grid_area": null,
      "grid_auto_columns": null,
      "grid_auto_flow": null,
      "grid_auto_rows": null,
      "grid_column": null,
      "grid_gap": null,
      "grid_row": null,
      "grid_template_areas": null,
      "grid_template_columns": null,
      "grid_template_rows": null,
      "height": null,
      "justify_content": null,
      "justify_items": null,
      "left": null,
      "margin": null,
      "max_height": null,
      "max_width": null,
      "min_height": null,
      "min_width": null,
      "object_fit": null,
      "object_position": null,
      "order": null,
      "overflow": null,
      "overflow_x": null,
      "overflow_y": null,
      "padding": null,
      "right": null,
      "top": null,
      "visibility": null,
      "width": null
     }
    },
    "837bc8f352ca4477932a063b8e311c83": {
     "model_module": "@jupyter-widgets/controls",
     "model_module_version": "1.5.0",
     "model_name": "DescriptionStyleModel",
     "state": {
      "_model_module": "@jupyter-widgets/controls",
      "_model_module_version": "1.5.0",
      "_model_name": "DescriptionStyleModel",
      "_view_count": null,
      "_view_module": "@jupyter-widgets/base",
      "_view_module_version": "1.2.0",
      "_view_name": "StyleView",
      "description_width": ""
     }
    },
    "94386e47fb2b4871986476486da82419": {
     "model_module": "@jupyter-widgets/base",
     "model_module_version": "1.2.0",
     "model_name": "LayoutModel",
     "state": {
      "_model_module": "@jupyter-widgets/base",
      "_model_module_version": "1.2.0",
      "_model_name": "LayoutModel",
      "_view_count": null,
      "_view_module": "@jupyter-widgets/base",
      "_view_module_version": "1.2.0",
      "_view_name": "LayoutView",
      "align_content": null,
      "align_items": null,
      "align_self": null,
      "border": null,
      "bottom": null,
      "display": null,
      "flex": null,
      "flex_flow": null,
      "grid_area": null,
      "grid_auto_columns": null,
      "grid_auto_flow": null,
      "grid_auto_rows": null,
      "grid_column": null,
      "grid_gap": null,
      "grid_row": null,
      "grid_template_areas": null,
      "grid_template_columns": null,
      "grid_template_rows": null,
      "height": null,
      "justify_content": null,
      "justify_items": null,
      "left": null,
      "margin": null,
      "max_height": null,
      "max_width": null,
      "min_height": null,
      "min_width": null,
      "object_fit": null,
      "object_position": null,
      "order": null,
      "overflow": null,
      "overflow_x": null,
      "overflow_y": null,
      "padding": null,
      "right": null,
      "top": null,
      "visibility": null,
      "width": null
     }
    },
    "977c125206fa4deaa41ff73655a632fe": {
     "model_module": "@jupyter-widgets/controls",
     "model_module_version": "1.5.0",
     "model_name": "ProgressStyleModel",
     "state": {
      "_model_module": "@jupyter-widgets/controls",
      "_model_module_version": "1.5.0",
      "_model_name": "ProgressStyleModel",
      "_view_count": null,
      "_view_module": "@jupyter-widgets/base",
      "_view_module_version": "1.2.0",
      "_view_name": "StyleView",
      "bar_color": null,
      "description_width": ""
     }
    },
    "a205da4733974e639f430d7d910892dd": {
     "model_module": "@jupyter-widgets/base",
     "model_module_version": "1.2.0",
     "model_name": "LayoutModel",
     "state": {
      "_model_module": "@jupyter-widgets/base",
      "_model_module_version": "1.2.0",
      "_model_name": "LayoutModel",
      "_view_count": null,
      "_view_module": "@jupyter-widgets/base",
      "_view_module_version": "1.2.0",
      "_view_name": "LayoutView",
      "align_content": null,
      "align_items": null,
      "align_self": null,
      "border": null,
      "bottom": null,
      "display": null,
      "flex": null,
      "flex_flow": null,
      "grid_area": null,
      "grid_auto_columns": null,
      "grid_auto_flow": null,
      "grid_auto_rows": null,
      "grid_column": null,
      "grid_gap": null,
      "grid_row": null,
      "grid_template_areas": null,
      "grid_template_columns": null,
      "grid_template_rows": null,
      "height": null,
      "justify_content": null,
      "justify_items": null,
      "left": null,
      "margin": null,
      "max_height": null,
      "max_width": null,
      "min_height": null,
      "min_width": null,
      "object_fit": null,
      "object_position": null,
      "order": null,
      "overflow": null,
      "overflow_x": null,
      "overflow_y": null,
      "padding": null,
      "right": null,
      "top": null,
      "visibility": null,
      "width": null
     }
    },
    "a4e507bf224e4bad8daca5460f700ff1": {
     "model_module": "@jupyter-widgets/controls",
     "model_module_version": "1.5.0",
     "model_name": "HBoxModel",
     "state": {
      "_dom_classes": [],
      "_model_module": "@jupyter-widgets/controls",
      "_model_module_version": "1.5.0",
      "_model_name": "HBoxModel",
      "_view_count": null,
      "_view_module": "@jupyter-widgets/controls",
      "_view_module_version": "1.5.0",
      "_view_name": "HBoxView",
      "box_style": "",
      "children": [
       "IPY_MODEL_4280e253444b46698e639a511c75fa33",
       "IPY_MODEL_64fc8f6b8f184d20902df5ba73265d21",
       "IPY_MODEL_2c48613ca0994ec38a96aaa5327f7dab"
      ],
      "layout": "IPY_MODEL_46547c9415134f47819cc4a77ee72dae"
     }
    },
    "bd4842ef6c224930b86d556877e498ed": {
     "model_module": "@jupyter-widgets/controls",
     "model_module_version": "1.5.0",
     "model_name": "DescriptionStyleModel",
     "state": {
      "_model_module": "@jupyter-widgets/controls",
      "_model_module_version": "1.5.0",
      "_model_name": "DescriptionStyleModel",
      "_view_count": null,
      "_view_module": "@jupyter-widgets/base",
      "_view_module_version": "1.2.0",
      "_view_name": "StyleView",
      "description_width": ""
     }
    },
    "c647b026c6c54268bdd1a53649bb95b5": {
     "model_module": "@jupyter-widgets/controls",
     "model_module_version": "1.5.0",
     "model_name": "ProgressStyleModel",
     "state": {
      "_model_module": "@jupyter-widgets/controls",
      "_model_module_version": "1.5.0",
      "_model_name": "ProgressStyleModel",
      "_view_count": null,
      "_view_module": "@jupyter-widgets/base",
      "_view_module_version": "1.2.0",
      "_view_name": "StyleView",
      "bar_color": null,
      "description_width": ""
     }
    },
    "c6dd1d1158d4461ab7e542f4364fc9b7": {
     "model_module": "@jupyter-widgets/controls",
     "model_module_version": "1.5.0",
     "model_name": "HBoxModel",
     "state": {
      "_dom_classes": [],
      "_model_module": "@jupyter-widgets/controls",
      "_model_module_version": "1.5.0",
      "_model_name": "HBoxModel",
      "_view_count": null,
      "_view_module": "@jupyter-widgets/controls",
      "_view_module_version": "1.5.0",
      "_view_name": "HBoxView",
      "box_style": "",
      "children": [
       "IPY_MODEL_5268b281c2c14735b01a258669fd8f85",
       "IPY_MODEL_210690051c7843c1a979d4ba34720883",
       "IPY_MODEL_5d68eca70e4b46bea441894d560815af"
      ],
      "layout": "IPY_MODEL_752dcc618cf84ad4a0842e11578dd85e"
     }
    },
    "c8b94f0e9d374bfca1159c90d942b33d": {
     "model_module": "@jupyter-widgets/base",
     "model_module_version": "1.2.0",
     "model_name": "LayoutModel",
     "state": {
      "_model_module": "@jupyter-widgets/base",
      "_model_module_version": "1.2.0",
      "_model_name": "LayoutModel",
      "_view_count": null,
      "_view_module": "@jupyter-widgets/base",
      "_view_module_version": "1.2.0",
      "_view_name": "LayoutView",
      "align_content": null,
      "align_items": null,
      "align_self": null,
      "border": null,
      "bottom": null,
      "display": null,
      "flex": null,
      "flex_flow": null,
      "grid_area": null,
      "grid_auto_columns": null,
      "grid_auto_flow": null,
      "grid_auto_rows": null,
      "grid_column": null,
      "grid_gap": null,
      "grid_row": null,
      "grid_template_areas": null,
      "grid_template_columns": null,
      "grid_template_rows": null,
      "height": null,
      "justify_content": null,
      "justify_items": null,
      "left": null,
      "margin": null,
      "max_height": null,
      "max_width": null,
      "min_height": null,
      "min_width": null,
      "object_fit": null,
      "object_position": null,
      "order": null,
      "overflow": null,
      "overflow_x": null,
      "overflow_y": null,
      "padding": null,
      "right": null,
      "top": null,
      "visibility": null,
      "width": null
     }
    },
    "caf4ae7115ba4b0c8ae5bbb4004985a9": {
     "model_module": "@jupyter-widgets/base",
     "model_module_version": "1.2.0",
     "model_name": "LayoutModel",
     "state": {
      "_model_module": "@jupyter-widgets/base",
      "_model_module_version": "1.2.0",
      "_model_name": "LayoutModel",
      "_view_count": null,
      "_view_module": "@jupyter-widgets/base",
      "_view_module_version": "1.2.0",
      "_view_name": "LayoutView",
      "align_content": null,
      "align_items": null,
      "align_self": null,
      "border": null,
      "bottom": null,
      "display": null,
      "flex": null,
      "flex_flow": null,
      "grid_area": null,
      "grid_auto_columns": null,
      "grid_auto_flow": null,
      "grid_auto_rows": null,
      "grid_column": null,
      "grid_gap": null,
      "grid_row": null,
      "grid_template_areas": null,
      "grid_template_columns": null,
      "grid_template_rows": null,
      "height": null,
      "justify_content": null,
      "justify_items": null,
      "left": null,
      "margin": null,
      "max_height": null,
      "max_width": null,
      "min_height": null,
      "min_width": null,
      "object_fit": null,
      "object_position": null,
      "order": null,
      "overflow": null,
      "overflow_x": null,
      "overflow_y": null,
      "padding": null,
      "right": null,
      "top": null,
      "visibility": null,
      "width": null
     }
    },
    "dcd352fde32e47828d2d9fbdd08c98cc": {
     "model_module": "@jupyter-widgets/base",
     "model_module_version": "1.2.0",
     "model_name": "LayoutModel",
     "state": {
      "_model_module": "@jupyter-widgets/base",
      "_model_module_version": "1.2.0",
      "_model_name": "LayoutModel",
      "_view_count": null,
      "_view_module": "@jupyter-widgets/base",
      "_view_module_version": "1.2.0",
      "_view_name": "LayoutView",
      "align_content": null,
      "align_items": null,
      "align_self": null,
      "border": null,
      "bottom": null,
      "display": null,
      "flex": null,
      "flex_flow": null,
      "grid_area": null,
      "grid_auto_columns": null,
      "grid_auto_flow": null,
      "grid_auto_rows": null,
      "grid_column": null,
      "grid_gap": null,
      "grid_row": null,
      "grid_template_areas": null,
      "grid_template_columns": null,
      "grid_template_rows": null,
      "height": null,
      "justify_content": null,
      "justify_items": null,
      "left": null,
      "margin": null,
      "max_height": null,
      "max_width": null,
      "min_height": null,
      "min_width": null,
      "object_fit": null,
      "object_position": null,
      "order": null,
      "overflow": null,
      "overflow_x": null,
      "overflow_y": null,
      "padding": null,
      "right": null,
      "top": null,
      "visibility": null,
      "width": null
     }
    },
    "df6bc52931a041dfabdd97fa1d868e12": {
     "model_module": "@jupyter-widgets/controls",
     "model_module_version": "1.5.0",
     "model_name": "DescriptionStyleModel",
     "state": {
      "_model_module": "@jupyter-widgets/controls",
      "_model_module_version": "1.5.0",
      "_model_name": "DescriptionStyleModel",
      "_view_count": null,
      "_view_module": "@jupyter-widgets/base",
      "_view_module_version": "1.2.0",
      "_view_name": "StyleView",
      "description_width": ""
     }
    }
   }
  }
 },
 "nbformat": 4,
 "nbformat_minor": 4
}
